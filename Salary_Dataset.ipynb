{
 "cells": [
  {
   "cell_type": "markdown",
   "id": "b19858f4",
   "metadata": {},
   "source": [
    "# IMPORTING NECCESSARY LIBRARIES REQUIRED FOR ANALYSIS."
   ]
  },
  {
   "cell_type": "code",
   "execution_count": 1,
   "id": "e38a1886",
   "metadata": {},
   "outputs": [],
   "source": [
    "import numpy as np\n",
    "import pandas as pd\n",
    "import matplotlib.pyplot as plt\n",
    "%matplotlib inline\n",
    "import seaborn as sns\n",
    "from sklearn.preprocessing import LabelEncoder\n",
    "import scipy.stats as st\n",
    "import pylab\n",
    "import warnings\n",
    "warnings.filterwarnings('ignore')"
   ]
  },
  {
   "cell_type": "markdown",
   "id": "a46d086f",
   "metadata": {},
   "source": [
    "# Read DataFrame"
   ]
  },
  {
   "cell_type": "code",
   "execution_count": 2,
   "id": "27fe69eb",
   "metadata": {},
   "outputs": [],
   "source": [
    "df = pd.read_csv(\"Salary_Dataset_with_Extra_Features.csv\")"
   ]
  },
  {
   "cell_type": "code",
   "execution_count": 3,
   "id": "18840e87",
   "metadata": {},
   "outputs": [
    {
     "data": {
      "text/html": [
       "<div>\n",
       "<style scoped>\n",
       "    .dataframe tbody tr th:only-of-type {\n",
       "        vertical-align: middle;\n",
       "    }\n",
       "\n",
       "    .dataframe tbody tr th {\n",
       "        vertical-align: top;\n",
       "    }\n",
       "\n",
       "    .dataframe thead th {\n",
       "        text-align: right;\n",
       "    }\n",
       "</style>\n",
       "<table border=\"1\" class=\"dataframe\">\n",
       "  <thead>\n",
       "    <tr style=\"text-align: right;\">\n",
       "      <th></th>\n",
       "      <th>Rating</th>\n",
       "      <th>Company Name</th>\n",
       "      <th>Job Title</th>\n",
       "      <th>Salary</th>\n",
       "      <th>Salaries Reported</th>\n",
       "      <th>Location</th>\n",
       "      <th>Employment Status</th>\n",
       "      <th>Job Roles</th>\n",
       "    </tr>\n",
       "  </thead>\n",
       "  <tbody>\n",
       "    <tr>\n",
       "      <th>0</th>\n",
       "      <td>3.8</td>\n",
       "      <td>Sasken</td>\n",
       "      <td>Android Developer</td>\n",
       "      <td>400000</td>\n",
       "      <td>3</td>\n",
       "      <td>Bangalore</td>\n",
       "      <td>Full Time</td>\n",
       "      <td>Android</td>\n",
       "    </tr>\n",
       "    <tr>\n",
       "      <th>1</th>\n",
       "      <td>4.5</td>\n",
       "      <td>Advanced Millennium Technologies</td>\n",
       "      <td>Android Developer</td>\n",
       "      <td>400000</td>\n",
       "      <td>3</td>\n",
       "      <td>Bangalore</td>\n",
       "      <td>Full Time</td>\n",
       "      <td>Android</td>\n",
       "    </tr>\n",
       "    <tr>\n",
       "      <th>2</th>\n",
       "      <td>4.0</td>\n",
       "      <td>Unacademy</td>\n",
       "      <td>Android Developer</td>\n",
       "      <td>1000000</td>\n",
       "      <td>3</td>\n",
       "      <td>Bangalore</td>\n",
       "      <td>Full Time</td>\n",
       "      <td>Android</td>\n",
       "    </tr>\n",
       "    <tr>\n",
       "      <th>3</th>\n",
       "      <td>3.8</td>\n",
       "      <td>SnapBizz Cloudtech</td>\n",
       "      <td>Android Developer</td>\n",
       "      <td>300000</td>\n",
       "      <td>3</td>\n",
       "      <td>Bangalore</td>\n",
       "      <td>Full Time</td>\n",
       "      <td>Android</td>\n",
       "    </tr>\n",
       "    <tr>\n",
       "      <th>4</th>\n",
       "      <td>4.4</td>\n",
       "      <td>Appoids Tech Solutions</td>\n",
       "      <td>Android Developer</td>\n",
       "      <td>600000</td>\n",
       "      <td>3</td>\n",
       "      <td>Bangalore</td>\n",
       "      <td>Full Time</td>\n",
       "      <td>Android</td>\n",
       "    </tr>\n",
       "  </tbody>\n",
       "</table>\n",
       "</div>"
      ],
      "text/plain": [
       "   Rating                      Company Name          Job Title   Salary  \\\n",
       "0     3.8                            Sasken  Android Developer   400000   \n",
       "1     4.5  Advanced Millennium Technologies  Android Developer   400000   \n",
       "2     4.0                         Unacademy  Android Developer  1000000   \n",
       "3     3.8                SnapBizz Cloudtech  Android Developer   300000   \n",
       "4     4.4            Appoids Tech Solutions  Android Developer   600000   \n",
       "\n",
       "   Salaries Reported   Location Employment Status Job Roles  \n",
       "0                  3  Bangalore         Full Time   Android  \n",
       "1                  3  Bangalore         Full Time   Android  \n",
       "2                  3  Bangalore         Full Time   Android  \n",
       "3                  3  Bangalore         Full Time   Android  \n",
       "4                  3  Bangalore         Full Time   Android  "
      ]
     },
     "execution_count": 3,
     "metadata": {},
     "output_type": "execute_result"
    }
   ],
   "source": [
    "df.head()"
   ]
  },
  {
   "cell_type": "code",
   "execution_count": 4,
   "id": "5d555026",
   "metadata": {},
   "outputs": [
    {
     "data": {
      "text/plain": [
       "(22770, 8)"
      ]
     },
     "execution_count": 4,
     "metadata": {},
     "output_type": "execute_result"
    }
   ],
   "source": [
    "df.shape"
   ]
  },
  {
   "cell_type": "code",
   "execution_count": 5,
   "id": "5ba458f1",
   "metadata": {},
   "outputs": [
    {
     "name": "stdout",
     "output_type": "stream",
     "text": [
      "<class 'pandas.core.frame.DataFrame'>\n",
      "RangeIndex: 22770 entries, 0 to 22769\n",
      "Data columns (total 8 columns):\n",
      " #   Column             Non-Null Count  Dtype  \n",
      "---  ------             --------------  -----  \n",
      " 0   Rating             22770 non-null  float64\n",
      " 1   Company Name       22770 non-null  object \n",
      " 2   Job Title          22770 non-null  object \n",
      " 3   Salary             22770 non-null  int64  \n",
      " 4   Salaries Reported  22770 non-null  int64  \n",
      " 5   Location           22770 non-null  object \n",
      " 6   Employment Status  22770 non-null  object \n",
      " 7   Job Roles          22770 non-null  object \n",
      "dtypes: float64(1), int64(2), object(5)\n",
      "memory usage: 1.4+ MB\n"
     ]
    }
   ],
   "source": [
    "df.info()"
   ]
  },
  {
   "cell_type": "code",
   "execution_count": 6,
   "id": "6a08acd8",
   "metadata": {},
   "outputs": [
    {
     "data": {
      "text/html": [
       "<div>\n",
       "<style scoped>\n",
       "    .dataframe tbody tr th:only-of-type {\n",
       "        vertical-align: middle;\n",
       "    }\n",
       "\n",
       "    .dataframe tbody tr th {\n",
       "        vertical-align: top;\n",
       "    }\n",
       "\n",
       "    .dataframe thead th {\n",
       "        text-align: right;\n",
       "    }\n",
       "</style>\n",
       "<table border=\"1\" class=\"dataframe\">\n",
       "  <thead>\n",
       "    <tr style=\"text-align: right;\">\n",
       "      <th></th>\n",
       "      <th>Rating</th>\n",
       "      <th>Salary</th>\n",
       "      <th>Salaries Reported</th>\n",
       "    </tr>\n",
       "  </thead>\n",
       "  <tbody>\n",
       "    <tr>\n",
       "      <th>count</th>\n",
       "      <td>22770.000000</td>\n",
       "      <td>2.277000e+04</td>\n",
       "      <td>22770.000000</td>\n",
       "    </tr>\n",
       "    <tr>\n",
       "      <th>mean</th>\n",
       "      <td>3.918213</td>\n",
       "      <td>6.953872e+05</td>\n",
       "      <td>1.855775</td>\n",
       "    </tr>\n",
       "    <tr>\n",
       "      <th>std</th>\n",
       "      <td>0.519675</td>\n",
       "      <td>8.843990e+05</td>\n",
       "      <td>6.823668</td>\n",
       "    </tr>\n",
       "    <tr>\n",
       "      <th>min</th>\n",
       "      <td>1.000000</td>\n",
       "      <td>2.112000e+03</td>\n",
       "      <td>1.000000</td>\n",
       "    </tr>\n",
       "    <tr>\n",
       "      <th>25%</th>\n",
       "      <td>3.700000</td>\n",
       "      <td>3.000000e+05</td>\n",
       "      <td>1.000000</td>\n",
       "    </tr>\n",
       "    <tr>\n",
       "      <th>50%</th>\n",
       "      <td>3.900000</td>\n",
       "      <td>5.000000e+05</td>\n",
       "      <td>1.000000</td>\n",
       "    </tr>\n",
       "    <tr>\n",
       "      <th>75%</th>\n",
       "      <td>4.200000</td>\n",
       "      <td>9.000000e+05</td>\n",
       "      <td>1.000000</td>\n",
       "    </tr>\n",
       "    <tr>\n",
       "      <th>max</th>\n",
       "      <td>5.000000</td>\n",
       "      <td>9.000000e+07</td>\n",
       "      <td>361.000000</td>\n",
       "    </tr>\n",
       "  </tbody>\n",
       "</table>\n",
       "</div>"
      ],
      "text/plain": [
       "             Rating        Salary  Salaries Reported\n",
       "count  22770.000000  2.277000e+04       22770.000000\n",
       "mean       3.918213  6.953872e+05           1.855775\n",
       "std        0.519675  8.843990e+05           6.823668\n",
       "min        1.000000  2.112000e+03           1.000000\n",
       "25%        3.700000  3.000000e+05           1.000000\n",
       "50%        3.900000  5.000000e+05           1.000000\n",
       "75%        4.200000  9.000000e+05           1.000000\n",
       "max        5.000000  9.000000e+07         361.000000"
      ]
     },
     "execution_count": 6,
     "metadata": {},
     "output_type": "execute_result"
    }
   ],
   "source": [
    "df.describe()"
   ]
  },
  {
   "cell_type": "code",
   "execution_count": 7,
   "id": "ed54f612",
   "metadata": {},
   "outputs": [
    {
     "data": {
      "text/html": [
       "<div>\n",
       "<style scoped>\n",
       "    .dataframe tbody tr th:only-of-type {\n",
       "        vertical-align: middle;\n",
       "    }\n",
       "\n",
       "    .dataframe tbody tr th {\n",
       "        vertical-align: top;\n",
       "    }\n",
       "\n",
       "    .dataframe thead th {\n",
       "        text-align: right;\n",
       "    }\n",
       "</style>\n",
       "<table border=\"1\" class=\"dataframe\">\n",
       "  <thead>\n",
       "    <tr style=\"text-align: right;\">\n",
       "      <th></th>\n",
       "      <th>Company Name</th>\n",
       "      <th>Job Title</th>\n",
       "      <th>Location</th>\n",
       "      <th>Employment Status</th>\n",
       "      <th>Job Roles</th>\n",
       "    </tr>\n",
       "  </thead>\n",
       "  <tbody>\n",
       "    <tr>\n",
       "      <th>count</th>\n",
       "      <td>22770</td>\n",
       "      <td>22770</td>\n",
       "      <td>22770</td>\n",
       "      <td>22770</td>\n",
       "      <td>22770</td>\n",
       "    </tr>\n",
       "    <tr>\n",
       "      <th>unique</th>\n",
       "      <td>11261</td>\n",
       "      <td>1080</td>\n",
       "      <td>10</td>\n",
       "      <td>4</td>\n",
       "      <td>11</td>\n",
       "    </tr>\n",
       "    <tr>\n",
       "      <th>top</th>\n",
       "      <td>Tata Consultancy Services</td>\n",
       "      <td>Software Development Engineer</td>\n",
       "      <td>Bangalore</td>\n",
       "      <td>Full Time</td>\n",
       "      <td>SDE</td>\n",
       "    </tr>\n",
       "    <tr>\n",
       "      <th>freq</th>\n",
       "      <td>271</td>\n",
       "      <td>2351</td>\n",
       "      <td>8264</td>\n",
       "      <td>20083</td>\n",
       "      <td>8183</td>\n",
       "    </tr>\n",
       "  </tbody>\n",
       "</table>\n",
       "</div>"
      ],
      "text/plain": [
       "                     Company Name                      Job Title   Location  \\\n",
       "count                       22770                          22770      22770   \n",
       "unique                      11261                           1080         10   \n",
       "top     Tata Consultancy Services  Software Development Engineer  Bangalore   \n",
       "freq                          271                           2351       8264   \n",
       "\n",
       "       Employment Status Job Roles  \n",
       "count              22770     22770  \n",
       "unique                 4        11  \n",
       "top            Full Time       SDE  \n",
       "freq               20083      8183  "
      ]
     },
     "execution_count": 7,
     "metadata": {},
     "output_type": "execute_result"
    }
   ],
   "source": [
    "df.describe(include='object')"
   ]
  },
  {
   "cell_type": "code",
   "execution_count": 8,
   "id": "16a600e1",
   "metadata": {},
   "outputs": [
    {
     "data": {
      "text/plain": [
       "Index(['Rating', 'Company Name', 'Job Title', 'Salary', 'Salaries Reported',\n",
       "       'Location', 'Employment Status', 'Job Roles'],\n",
       "      dtype='object')"
      ]
     },
     "execution_count": 8,
     "metadata": {},
     "output_type": "execute_result"
    }
   ],
   "source": [
    "df.columns"
   ]
  },
  {
   "cell_type": "markdown",
   "id": "6ab60165",
   "metadata": {},
   "source": [
    "# Finding out the null values and Filling those values."
   ]
  },
  {
   "cell_type": "code",
   "execution_count": 9,
   "id": "2a49cec1",
   "metadata": {},
   "outputs": [
    {
     "data": {
      "text/plain": [
       "Rating               0\n",
       "Company Name         0\n",
       "Job Title            0\n",
       "Salary               0\n",
       "Salaries Reported    0\n",
       "Location             0\n",
       "Employment Status    0\n",
       "Job Roles            0\n",
       "dtype: int64"
      ]
     },
     "execution_count": 9,
     "metadata": {},
     "output_type": "execute_result"
    }
   ],
   "source": [
    "df.isna().sum()"
   ]
  },
  {
   "cell_type": "markdown",
   "id": "6fcfaba2",
   "metadata": {},
   "source": [
    "# Since the data has cleaned now we can perform Analysis based on data"
   ]
  },
  {
   "cell_type": "markdown",
   "id": "edfaac5a",
   "metadata": {},
   "source": [
    "# Univariate Analysis"
   ]
  },
  {
   "cell_type": "code",
   "execution_count": 10,
   "id": "e1779a9f",
   "metadata": {},
   "outputs": [
    {
     "data": {
      "text/plain": [
       "Tata Consultancy Services         271\n",
       "Amazon                            184\n",
       "Infosys                           169\n",
       "Accenture                         150\n",
       "Cognizant Technology Solutions    144\n",
       "                                 ... \n",
       "Talent Anywhere                     1\n",
       "WisdmLabs                           1\n",
       "Softdel                             1\n",
       "Dentsu                              1\n",
       "Nextgen Innovation Labs             1\n",
       "Name: Company Name, Length: 11261, dtype: int64"
      ]
     },
     "execution_count": 10,
     "metadata": {},
     "output_type": "execute_result"
    }
   ],
   "source": [
    "# which company has maximum number of employees\n",
    "df['Company Name'].value_counts()\n"
   ]
  },
  {
   "cell_type": "code",
   "execution_count": null,
   "id": "08e02b8a",
   "metadata": {},
   "outputs": [],
   "source": []
  },
  {
   "cell_type": "code",
   "execution_count": 11,
   "id": "96088fb1",
   "metadata": {},
   "outputs": [
    {
     "data": {
      "text/plain": [
       "Job Roles\n",
       "Android     1666607904\n",
       "Backend      893730688\n",
       "Database     829175200\n",
       "Frontend    1319643488\n",
       "IOS         1133959680\n",
       "Java        1049231008\n",
       "Mobile       216159328\n",
       "Python       460263584\n",
       "SDE         6986600576\n",
       "Testing      863558848\n",
       "Web          415036496\n",
       "Name: Salary, dtype: int64"
      ]
     },
     "execution_count": 11,
     "metadata": {},
     "output_type": "execute_result"
    }
   ],
   "source": [
    "df.groupby('Job Roles')['Salary'].sum()"
   ]
  },
  {
   "cell_type": "code",
   "execution_count": 12,
   "id": "7a45cac0",
   "metadata": {},
   "outputs": [
    {
     "data": {
      "image/png": "[encoded data removed]",
      "text/plain": [
       "<Figure size 1080x360 with 1 Axes>"
      ]
     },
     "metadata": {
      "needs_background": "light"
     },
     "output_type": "display_data"
    }
   ],
   "source": [
    "plt.figure(figsize=(15,5))\n",
    "sns.barplot(x='Job Roles',y='Salary',data=df);"
   ]
  },
  {
   "cell_type": "code",
   "execution_count": 13,
   "id": "9b26e877",
   "metadata": {},
   "outputs": [
    {
     "data": {
      "text/plain": [
       "Location\n",
       "Bangalore         6076888928\n",
       "Chennai           1436847648\n",
       "Hyderabad         3033535936\n",
       "Jaipur              50960000\n",
       "Kerala              59786368\n",
       "Kolkata            126544752\n",
       "Madhya Pradesh     105034496\n",
       "Mumbai             719924096\n",
       "New Delhi         2750968128\n",
       "Pune              1473476448\n",
       "Name: Salary, dtype: int64"
      ]
     },
     "execution_count": 13,
     "metadata": {},
     "output_type": "execute_result"
    }
   ],
   "source": [
    "df.groupby('Location')['Salary'].sum()"
   ]
  },
  {
   "cell_type": "code",
   "execution_count": 14,
   "id": "22f0004c",
   "metadata": {},
   "outputs": [
    {
     "data": {
      "image/png": "[encoded data removed]",
      "text/plain": [
       "<Figure size 1080x360 with 1 Axes>"
      ]
     },
     "metadata": {
      "needs_background": "light"
     },
     "output_type": "display_data"
    }
   ],
   "source": [
    "plt.figure(figsize=(15,5))\n",
    "sns.barplot(x='Location',y='Salary',data=df);"
   ]
  },
  {
   "cell_type": "code",
   "execution_count": null,
   "id": "24f3d66e",
   "metadata": {},
   "outputs": [],
   "source": []
  },
  {
   "cell_type": "code",
   "execution_count": 15,
   "id": "8f431740",
   "metadata": {},
   "outputs": [
    {
     "data": {
      "text/plain": [
       "Software Development Engineer          2351\n",
       "Android Developer                      2029\n",
       "Software Development Engineer (SDE)    1614\n",
       "Front End Developer                    1412\n",
       "Test Engineer                          1314\n",
       "                                       ... \n",
       "Java Andriod Developer                    1\n",
       "Java Deceloper                            1\n",
       "Java/J2EE Programmer                      1\n",
       "Java SOA Developer                        1\n",
       "Associate Web Developer                   1\n",
       "Name: Job Title, Length: 1080, dtype: int64"
      ]
     },
     "execution_count": 15,
     "metadata": {},
     "output_type": "execute_result"
    }
   ],
   "source": [
    "# maximum employees works as which job title\n",
    "df['Job Title'].value_counts()"
   ]
  },
  {
   "cell_type": "code",
   "execution_count": 16,
   "id": "0ebc75a5",
   "metadata": {},
   "outputs": [
    {
     "data": {
      "text/plain": [
       "Bangalore         8264\n",
       "Hyderabad         4467\n",
       "New Delhi         4176\n",
       "Chennai           2458\n",
       "Pune              2134\n",
       "Mumbai             749\n",
       "Kolkata            178\n",
       "Madhya Pradesh     155\n",
       "Kerala             108\n",
       "Jaipur              81\n",
       "Name: Location, dtype: int64"
      ]
     },
     "execution_count": 16,
     "metadata": {},
     "output_type": "execute_result"
    }
   ],
   "source": [
    "# maximum employees works in which location\n",
    "df['Location'].value_counts()\n"
   ]
  },
  {
   "cell_type": "code",
   "execution_count": 17,
   "id": "f8ef1744",
   "metadata": {},
   "outputs": [
    {
     "data": {
      "image/png": "[encoded data removed]",
      "text/plain": [
       "<Figure size 1080x360 with 1 Axes>"
      ]
     },
     "metadata": {
      "needs_background": "light"
     },
     "output_type": "display_data"
    }
   ],
   "source": [
    "plt.figure(figsize=(15,5))\n",
    "sns.countplot(df['Location']);"
   ]
  },
  {
   "cell_type": "code",
   "execution_count": null,
   "id": "30dd631f",
   "metadata": {},
   "outputs": [],
   "source": []
  },
  {
   "cell_type": "code",
   "execution_count": 18,
   "id": "de19de22",
   "metadata": {},
   "outputs": [
    {
     "data": {
      "text/plain": [
       "SDE         8183\n",
       "Android     2945\n",
       "Frontend    2163\n",
       "Java        1858\n",
       "Testing     1740\n",
       "IOS         1631\n",
       "Backend     1194\n",
       "Web          999\n",
       "Python       947\n",
       "Database     865\n",
       "Mobile       245\n",
       "Name: Job Roles, dtype: int64"
      ]
     },
     "execution_count": 18,
     "metadata": {},
     "output_type": "execute_result"
    }
   ],
   "source": [
    "df['Job Roles'].value_counts()\n"
   ]
  },
  {
   "cell_type": "code",
   "execution_count": 19,
   "id": "d5b059d1",
   "metadata": {},
   "outputs": [
    {
     "data": {
      "image/png": "[encoded data removed]",
      "text/plain": [
       "<Figure size 1080x360 with 1 Axes>"
      ]
     },
     "metadata": {
      "needs_background": "light"
     },
     "output_type": "display_data"
    }
   ],
   "source": [
    "plt.figure(figsize=(15,5))\n",
    "sns.countplot(df['Job Roles']);"
   ]
  },
  {
   "cell_type": "code",
   "execution_count": 20,
   "id": "624c31a5",
   "metadata": {},
   "outputs": [
    {
     "data": {
      "text/plain": [
       "Full Time     20083\n",
       "Intern         2106\n",
       "Contractor      548\n",
       "Trainee          33\n",
       "Name: Employment Status, dtype: int64"
      ]
     },
     "execution_count": 20,
     "metadata": {},
     "output_type": "execute_result"
    }
   ],
   "source": [
    "df['Employment Status'].value_counts()"
   ]
  },
  {
   "cell_type": "code",
   "execution_count": 21,
   "id": "4d771af9",
   "metadata": {},
   "outputs": [
    {
     "data": {
      "image/png": "[encoded data removed]",
      "text/plain": [
       "<Figure size 1440x720 with 1 Axes>"
      ]
     },
     "metadata": {},
     "output_type": "display_data"
    }
   ],
   "source": [
    "plt.figure(figsize=(20,10))\n",
    "plt.pie(df['Employment Status'].value_counts(),labels=['Full Time','Intern','Contractor','Trainee'],autopct='%.1f%%');"
   ]
  },
  {
   "cell_type": "code",
   "execution_count": 22,
   "id": "2a1db70b",
   "metadata": {},
   "outputs": [
    {
     "data": {
      "text/html": [
       "<div>\n",
       "<style scoped>\n",
       "    .dataframe tbody tr th:only-of-type {\n",
       "        vertical-align: middle;\n",
       "    }\n",
       "\n",
       "    .dataframe tbody tr th {\n",
       "        vertical-align: top;\n",
       "    }\n",
       "\n",
       "    .dataframe thead th {\n",
       "        text-align: right;\n",
       "    }\n",
       "</style>\n",
       "<table border=\"1\" class=\"dataframe\">\n",
       "  <thead>\n",
       "    <tr style=\"text-align: right;\">\n",
       "      <th></th>\n",
       "      <th>Rating</th>\n",
       "      <th>Company Name</th>\n",
       "      <th>Job Title</th>\n",
       "      <th>Salary</th>\n",
       "      <th>Salaries Reported</th>\n",
       "      <th>Location</th>\n",
       "      <th>Employment Status</th>\n",
       "      <th>Job Roles</th>\n",
       "    </tr>\n",
       "  </thead>\n",
       "  <tbody>\n",
       "    <tr>\n",
       "      <th>0</th>\n",
       "      <td>3.8</td>\n",
       "      <td>Sasken</td>\n",
       "      <td>Android Developer</td>\n",
       "      <td>400000</td>\n",
       "      <td>3</td>\n",
       "      <td>Bangalore</td>\n",
       "      <td>Full Time</td>\n",
       "      <td>Android</td>\n",
       "    </tr>\n",
       "    <tr>\n",
       "      <th>1</th>\n",
       "      <td>4.5</td>\n",
       "      <td>Advanced Millennium Technologies</td>\n",
       "      <td>Android Developer</td>\n",
       "      <td>400000</td>\n",
       "      <td>3</td>\n",
       "      <td>Bangalore</td>\n",
       "      <td>Full Time</td>\n",
       "      <td>Android</td>\n",
       "    </tr>\n",
       "    <tr>\n",
       "      <th>2</th>\n",
       "      <td>4.0</td>\n",
       "      <td>Unacademy</td>\n",
       "      <td>Android Developer</td>\n",
       "      <td>1000000</td>\n",
       "      <td>3</td>\n",
       "      <td>Bangalore</td>\n",
       "      <td>Full Time</td>\n",
       "      <td>Android</td>\n",
       "    </tr>\n",
       "    <tr>\n",
       "      <th>3</th>\n",
       "      <td>3.8</td>\n",
       "      <td>SnapBizz Cloudtech</td>\n",
       "      <td>Android Developer</td>\n",
       "      <td>300000</td>\n",
       "      <td>3</td>\n",
       "      <td>Bangalore</td>\n",
       "      <td>Full Time</td>\n",
       "      <td>Android</td>\n",
       "    </tr>\n",
       "    <tr>\n",
       "      <th>4</th>\n",
       "      <td>4.4</td>\n",
       "      <td>Appoids Tech Solutions</td>\n",
       "      <td>Android Developer</td>\n",
       "      <td>600000</td>\n",
       "      <td>3</td>\n",
       "      <td>Bangalore</td>\n",
       "      <td>Full Time</td>\n",
       "      <td>Android</td>\n",
       "    </tr>\n",
       "  </tbody>\n",
       "</table>\n",
       "</div>"
      ],
      "text/plain": [
       "   Rating                      Company Name          Job Title   Salary  \\\n",
       "0     3.8                            Sasken  Android Developer   400000   \n",
       "1     4.5  Advanced Millennium Technologies  Android Developer   400000   \n",
       "2     4.0                         Unacademy  Android Developer  1000000   \n",
       "3     3.8                SnapBizz Cloudtech  Android Developer   300000   \n",
       "4     4.4            Appoids Tech Solutions  Android Developer   600000   \n",
       "\n",
       "   Salaries Reported   Location Employment Status Job Roles  \n",
       "0                  3  Bangalore         Full Time   Android  \n",
       "1                  3  Bangalore         Full Time   Android  \n",
       "2                  3  Bangalore         Full Time   Android  \n",
       "3                  3  Bangalore         Full Time   Android  \n",
       "4                  3  Bangalore         Full Time   Android  "
      ]
     },
     "execution_count": 22,
     "metadata": {},
     "output_type": "execute_result"
    }
   ],
   "source": [
    "df.head()"
   ]
  },
  {
   "cell_type": "markdown",
   "id": "3bea7e77",
   "metadata": {},
   "source": [
    "# Bi-Variate Analysis"
   ]
  },
  {
   "cell_type": "code",
   "execution_count": 23,
   "id": "7a3447a1",
   "metadata": {},
   "outputs": [
    {
     "data": {
      "text/plain": [
       "Location        Employment Status\n",
       "Bangalore       Full Time            7210\n",
       "                Intern                798\n",
       "                Contractor            248\n",
       "                Trainee                 8\n",
       "Chennai         Full Time            2255\n",
       "                Intern                151\n",
       "                Contractor             41\n",
       "                Trainee                11\n",
       "Hyderabad       Full Time            4070\n",
       "                Intern                249\n",
       "                Contractor            142\n",
       "                Trainee                 6\n",
       "Jaipur          Full Time              68\n",
       "                Intern                 13\n",
       "Kerala          Full Time             101\n",
       "                Intern                  6\n",
       "                Contractor              1\n",
       "Kolkata         Full Time             141\n",
       "                Intern                 35\n",
       "                Contractor              1\n",
       "                Trainee                 1\n",
       "Madhya Pradesh  Full Time             125\n",
       "                Intern                 29\n",
       "                Trainee                 1\n",
       "Mumbai          Full Time             666\n",
       "                Intern                 68\n",
       "                Contractor             15\n",
       "New Delhi       Full Time            3537\n",
       "                Intern                576\n",
       "                Contractor             62\n",
       "                Trainee                 1\n",
       "Pune            Full Time            1910\n",
       "                Intern                181\n",
       "                Contractor             38\n",
       "                Trainee                 5\n",
       "Name: Employment Status, dtype: int64"
      ]
     },
     "execution_count": 23,
     "metadata": {},
     "output_type": "execute_result"
    }
   ],
   "source": [
    "df.groupby('Location')['Employment Status'].value_counts()"
   ]
  },
  {
   "cell_type": "code",
   "execution_count": 24,
   "id": "278380f1",
   "metadata": {},
   "outputs": [
    {
     "data": {
      "image/png": "[encoded data removed]",
      "text/plain": [
       "<Figure size 1440x792 with 1 Axes>"
      ]
     },
     "metadata": {
      "needs_background": "light"
     },
     "output_type": "display_data"
    }
   ],
   "source": [
    "plt.figure(figsize=(20,11))\n",
    "sns.countplot('Location',hue='Employment Status',data=df);"
   ]
  },
  {
   "cell_type": "markdown",
   "id": "024751a7",
   "metadata": {},
   "source": [
    "From the above graph, Peoples are more interested in getting Full time job as compared to intern , contrater and trainee.\n"
   ]
  },
  {
   "cell_type": "code",
   "execution_count": 25,
   "id": "d1bc5362",
   "metadata": {},
   "outputs": [
    {
     "data": {
      "text/plain": [
       "Job Roles  Location      \n",
       "Android    New Delhi          980\n",
       "           Bangalore          940\n",
       "           Pune               381\n",
       "           Hyderabad          336\n",
       "           Chennai            308\n",
       "Backend    Bangalore          479\n",
       "           New Delhi          399\n",
       "           Hyderabad          112\n",
       "           Pune               105\n",
       "           Chennai             98\n",
       "           Mumbai               1\n",
       "Database   Bangalore          864\n",
       "           Chennai              1\n",
       "Frontend   Bangalore          826\n",
       "           New Delhi          380\n",
       "           Pune               327\n",
       "           Hyderabad          323\n",
       "           Chennai            307\n",
       "IOS        New Delhi          721\n",
       "           Bangalore          482\n",
       "           Pune               247\n",
       "           Hyderabad          180\n",
       "           Mumbai               1\n",
       "Java       Hyderabad          962\n",
       "           Chennai            896\n",
       "Mobile     Bangalore          245\n",
       "Python     Bangalore          467\n",
       "           Hyderabad          302\n",
       "           Chennai            178\n",
       "SDE        Bangalore         1988\n",
       "           New Delhi         1696\n",
       "           Hyderabad         1487\n",
       "           Pune              1074\n",
       "           Mumbai             747\n",
       "           Chennai            670\n",
       "           Kolkata            177\n",
       "           Madhya Pradesh     155\n",
       "           Kerala             108\n",
       "           Jaipur              81\n",
       "Testing    Bangalore          975\n",
       "           Hyderabad          765\n",
       "Web        Bangalore          998\n",
       "           Kolkata              1\n",
       "Name: Location, dtype: int64"
      ]
     },
     "execution_count": 25,
     "metadata": {},
     "output_type": "execute_result"
    }
   ],
   "source": [
    "df.groupby('Job Roles')['Location'].value_counts()"
   ]
  },
  {
   "cell_type": "code",
   "execution_count": 26,
   "id": "83ff351c",
   "metadata": {},
   "outputs": [
    {
     "data": {
      "image/png": "[encoded data removed]",
      "text/plain": [
       "<Figure size 1800x720 with 1 Axes>"
      ]
     },
     "metadata": {
      "needs_background": "light"
     },
     "output_type": "display_data"
    }
   ],
   "source": [
    "plt.figure(figsize=(25,10))\n",
    "sns.countplot('Job Roles',hue='Location',data=df);"
   ]
  },
  {
   "cell_type": "code",
   "execution_count": null,
   "id": "7d751d57",
   "metadata": {},
   "outputs": [],
   "source": []
  },
  {
   "cell_type": "code",
   "execution_count": 27,
   "id": "9d1c5ccc",
   "metadata": {},
   "outputs": [
    {
     "data": {
      "text/plain": [
       "Job Roles  Employment Status\n",
       "Android    Full Time            2669\n",
       "           Intern                225\n",
       "           Contractor             42\n",
       "           Trainee                 9\n",
       "Backend    Full Time             993\n",
       "           Intern                193\n",
       "           Contractor              8\n",
       "Database   Full Time             803\n",
       "           Contractor             56\n",
       "           Intern                  6\n",
       "Frontend   Full Time            1938\n",
       "           Intern                192\n",
       "           Contractor             33\n",
       "IOS        Full Time            1561\n",
       "           Intern                 47\n",
       "           Contractor             22\n",
       "           Trainee                 1\n",
       "Java       Full Time            1740\n",
       "           Contractor             60\n",
       "           Intern                 51\n",
       "           Trainee                 7\n",
       "Mobile     Full Time             229\n",
       "           Intern                 11\n",
       "           Contractor              4\n",
       "           Trainee                 1\n",
       "Python     Full Time             845\n",
       "           Intern                 69\n",
       "           Contractor             27\n",
       "           Trainee                 6\n",
       "SDE        Full Time            6875\n",
       "           Intern               1166\n",
       "           Contractor            133\n",
       "           Trainee                 9\n",
       "Testing    Full Time            1574\n",
       "           Contractor            136\n",
       "           Intern                 30\n",
       "Web        Full Time             856\n",
       "           Intern                116\n",
       "           Contractor             27\n",
       "Name: Employment Status, dtype: int64"
      ]
     },
     "execution_count": 27,
     "metadata": {},
     "output_type": "execute_result"
    }
   ],
   "source": [
    "df.groupby('Job Roles')['Employment Status'].value_counts()"
   ]
  },
  {
   "cell_type": "code",
   "execution_count": 28,
   "id": "e9db5b7d",
   "metadata": {},
   "outputs": [
    {
     "data": {
      "image/png": "[encoded data removed]",
      "text/plain": [
       "<Figure size 1800x720 with 1 Axes>"
      ]
     },
     "metadata": {
      "needs_background": "light"
     },
     "output_type": "display_data"
    }
   ],
   "source": [
    "plt.figure(figsize=(25,10))\n",
    "sns.countplot('Job Roles',hue='Employment Status',data=df);"
   ]
  },
  {
   "cell_type": "code",
   "execution_count": null,
   "id": "a60c2ed0",
   "metadata": {},
   "outputs": [],
   "source": []
  },
  {
   "cell_type": "markdown",
   "id": "013c3ca8",
   "metadata": {},
   "source": [
    "# Multi-Variate Analysis"
   ]
  },
  {
   "cell_type": "code",
   "execution_count": 29,
   "id": "8a6514f9",
   "metadata": {},
   "outputs": [
    {
     "data": {
      "image/png": "[encoded data removed]",
      "text/plain": [
       "<Figure size 1440x720 with 1 Axes>"
      ]
     },
     "metadata": {
      "needs_background": "light"
     },
     "output_type": "display_data"
    }
   ],
   "source": [
    "plt.figure(figsize=(20,10))\n",
    "sns.barplot(x='Location',y='Salary',hue='Employment Status',data=df);"
   ]
  },
  {
   "cell_type": "code",
   "execution_count": null,
   "id": "54b5a485",
   "metadata": {},
   "outputs": [],
   "source": []
  },
  {
   "cell_type": "code",
   "execution_count": 30,
   "id": "9a3a8110",
   "metadata": {},
   "outputs": [
    {
     "data": {
      "image/png": "[encoded data removed]",
      "text/plain": [
       "<Figure size 1440x432 with 1 Axes>"
      ]
     },
     "metadata": {
      "needs_background": "light"
     },
     "output_type": "display_data"
    }
   ],
   "source": [
    "# Top 50 Company Highest Paying Salary \n",
    "plt.figure(figsize = (20, 6))\n",
    "plt.xticks(rotation = 90)\n",
    "plt.ticklabel_format(style = 'plain')\n",
    "df.sort_values(\"Salary\", axis = 0, ascending = False, inplace = True)\n",
    "sns.barplot(x = df[\"Company Name\"][1:51],\n",
    " y = df[\"Salary\"][1:51],\n",
    " palette = \"spring\");\n"
   ]
  },
  {
   "cell_type": "markdown",
   "id": "11c4c2f0",
   "metadata": {},
   "source": [
    "This Graph shows the frequency of the Job Roles.\n"
   ]
  },
  {
   "cell_type": "code",
   "execution_count": null,
   "id": "e7c81907",
   "metadata": {},
   "outputs": [],
   "source": []
  },
  {
   "cell_type": "code",
   "execution_count": 31,
   "id": "5059c2c1",
   "metadata": {},
   "outputs": [
    {
     "data": {
      "text/html": [
       "<div>\n",
       "<style scoped>\n",
       "    .dataframe tbody tr th:only-of-type {\n",
       "        vertical-align: middle;\n",
       "    }\n",
       "\n",
       "    .dataframe tbody tr th {\n",
       "        vertical-align: top;\n",
       "    }\n",
       "\n",
       "    .dataframe thead th {\n",
       "        text-align: right;\n",
       "    }\n",
       "</style>\n",
       "<table border=\"1\" class=\"dataframe\">\n",
       "  <thead>\n",
       "    <tr style=\"text-align: right;\">\n",
       "      <th></th>\n",
       "      <th>Company Name</th>\n",
       "      <th>Rating</th>\n",
       "    </tr>\n",
       "  </thead>\n",
       "  <tbody>\n",
       "    <tr>\n",
       "      <th>252</th>\n",
       "      <td>GetVu</td>\n",
       "      <td>5.0</td>\n",
       "    </tr>\n",
       "    <tr>\n",
       "      <th>7014</th>\n",
       "      <td>Vistaar360</td>\n",
       "      <td>5.0</td>\n",
       "    </tr>\n",
       "    <tr>\n",
       "      <th>6120</th>\n",
       "      <td>Jorim Technology Solutions</td>\n",
       "      <td>5.0</td>\n",
       "    </tr>\n",
       "    <tr>\n",
       "      <th>2238</th>\n",
       "      <td>Digitally Xpert</td>\n",
       "      <td>5.0</td>\n",
       "    </tr>\n",
       "    <tr>\n",
       "      <th>12575</th>\n",
       "      <td>Vivikta Technologies</td>\n",
       "      <td>5.0</td>\n",
       "    </tr>\n",
       "    <tr>\n",
       "      <th>17305</th>\n",
       "      <td>LaborHub</td>\n",
       "      <td>5.0</td>\n",
       "    </tr>\n",
       "    <tr>\n",
       "      <th>5994</th>\n",
       "      <td>adyog</td>\n",
       "      <td>5.0</td>\n",
       "    </tr>\n",
       "    <tr>\n",
       "      <th>8633</th>\n",
       "      <td>Tecocraft Infusion</td>\n",
       "      <td>5.0</td>\n",
       "    </tr>\n",
       "    <tr>\n",
       "      <th>11550</th>\n",
       "      <td>Arann Cyber tec</td>\n",
       "      <td>5.0</td>\n",
       "    </tr>\n",
       "    <tr>\n",
       "      <th>5644</th>\n",
       "      <td>Golden Unicon</td>\n",
       "      <td>5.0</td>\n",
       "    </tr>\n",
       "    <tr>\n",
       "      <th>2866</th>\n",
       "      <td>Vrishank Softtech</td>\n",
       "      <td>5.0</td>\n",
       "    </tr>\n",
       "    <tr>\n",
       "      <th>15369</th>\n",
       "      <td>Centime</td>\n",
       "      <td>5.0</td>\n",
       "    </tr>\n",
       "    <tr>\n",
       "      <th>8955</th>\n",
       "      <td>SGM Technologies</td>\n",
       "      <td>5.0</td>\n",
       "    </tr>\n",
       "    <tr>\n",
       "      <th>21142</th>\n",
       "      <td>Anyonyam Consulting Services</td>\n",
       "      <td>5.0</td>\n",
       "    </tr>\n",
       "    <tr>\n",
       "      <th>4131</th>\n",
       "      <td>McCoy Mart</td>\n",
       "      <td>5.0</td>\n",
       "    </tr>\n",
       "    <tr>\n",
       "      <th>11092</th>\n",
       "      <td>crossml</td>\n",
       "      <td>5.0</td>\n",
       "    </tr>\n",
       "    <tr>\n",
       "      <th>10187</th>\n",
       "      <td>Axiom xCell</td>\n",
       "      <td>5.0</td>\n",
       "    </tr>\n",
       "    <tr>\n",
       "      <th>16922</th>\n",
       "      <td>SSTech</td>\n",
       "      <td>5.0</td>\n",
       "    </tr>\n",
       "    <tr>\n",
       "      <th>20301</th>\n",
       "      <td>Ongo Recruitment</td>\n",
       "      <td>5.0</td>\n",
       "    </tr>\n",
       "    <tr>\n",
       "      <th>20195</th>\n",
       "      <td>Nektrix</td>\n",
       "      <td>5.0</td>\n",
       "    </tr>\n",
       "  </tbody>\n",
       "</table>\n",
       "</div>"
      ],
      "text/plain": [
       "                       Company Name  Rating\n",
       "252                           GetVu     5.0\n",
       "7014                     Vistaar360     5.0\n",
       "6120     Jorim Technology Solutions     5.0\n",
       "2238                Digitally Xpert     5.0\n",
       "12575          Vivikta Technologies     5.0\n",
       "17305                      LaborHub     5.0\n",
       "5994                          adyog     5.0\n",
       "8633             Tecocraft Infusion     5.0\n",
       "11550               Arann Cyber tec     5.0\n",
       "5644                  Golden Unicon     5.0\n",
       "2866              Vrishank Softtech     5.0\n",
       "15369                       Centime     5.0\n",
       "8955               SGM Technologies     5.0\n",
       "21142  Anyonyam Consulting Services     5.0\n",
       "4131                     McCoy Mart     5.0\n",
       "11092                       crossml     5.0\n",
       "10187                   Axiom xCell     5.0\n",
       "16922                        SSTech     5.0\n",
       "20301              Ongo Recruitment     5.0\n",
       "20195                       Nektrix     5.0"
      ]
     },
     "execution_count": 31,
     "metadata": {},
     "output_type": "execute_result"
    }
   ],
   "source": [
    "# Top 20 Companies with 5.0 Rating\n",
    "df[['Company Name','Rating']].sort_values(by='Rating',ascending=False).head(20)"
   ]
  },
  {
   "cell_type": "code",
   "execution_count": null,
   "id": "a6968575",
   "metadata": {},
   "outputs": [],
   "source": []
  },
  {
   "cell_type": "code",
   "execution_count": 32,
   "id": "19e1be75",
   "metadata": {},
   "outputs": [
    {
     "data": {
      "text/html": [
       "<div>\n",
       "<style scoped>\n",
       "    .dataframe tbody tr th:only-of-type {\n",
       "        vertical-align: middle;\n",
       "    }\n",
       "\n",
       "    .dataframe tbody tr th {\n",
       "        vertical-align: top;\n",
       "    }\n",
       "\n",
       "    .dataframe thead th {\n",
       "        text-align: right;\n",
       "    }\n",
       "</style>\n",
       "<table border=\"1\" class=\"dataframe\">\n",
       "  <thead>\n",
       "    <tr style=\"text-align: right;\">\n",
       "      <th></th>\n",
       "      <th>Rating</th>\n",
       "      <th>Company Name</th>\n",
       "      <th>Job Title</th>\n",
       "      <th>Salary</th>\n",
       "      <th>Salaries Reported</th>\n",
       "      <th>Location</th>\n",
       "      <th>Employment Status</th>\n",
       "      <th>Job Roles</th>\n",
       "    </tr>\n",
       "  </thead>\n",
       "  <tbody>\n",
       "    <tr>\n",
       "      <th>18635</th>\n",
       "      <td>3.6</td>\n",
       "      <td>Thapar University</td>\n",
       "      <td>Software Development Engineer (SDE)</td>\n",
       "      <td>90000000</td>\n",
       "      <td>1</td>\n",
       "      <td>New Delhi</td>\n",
       "      <td>Full Time</td>\n",
       "      <td>SDE</td>\n",
       "    </tr>\n",
       "    <tr>\n",
       "      <th>9260</th>\n",
       "      <td>3.6</td>\n",
       "      <td>OASYS Cybernetics</td>\n",
       "      <td>Senior Java Developer</td>\n",
       "      <td>10000000</td>\n",
       "      <td>1</td>\n",
       "      <td>Chennai</td>\n",
       "      <td>Full Time</td>\n",
       "      <td>Java</td>\n",
       "    </tr>\n",
       "    <tr>\n",
       "      <th>4471</th>\n",
       "      <td>3.8</td>\n",
       "      <td>Concentrix</td>\n",
       "      <td>Oracle Database Administrator</td>\n",
       "      <td>10000000</td>\n",
       "      <td>1</td>\n",
       "      <td>Bangalore</td>\n",
       "      <td>Full Time</td>\n",
       "      <td>Database</td>\n",
       "    </tr>\n",
       "    <tr>\n",
       "      <th>7121</th>\n",
       "      <td>3.5</td>\n",
       "      <td>Koru UX Design</td>\n",
       "      <td>Senior Front End Developer</td>\n",
       "      <td>10000000</td>\n",
       "      <td>1</td>\n",
       "      <td>Pune</td>\n",
       "      <td>Full Time</td>\n",
       "      <td>Frontend</td>\n",
       "    </tr>\n",
       "    <tr>\n",
       "      <th>5819</th>\n",
       "      <td>3.7</td>\n",
       "      <td>Nityo Infotech</td>\n",
       "      <td>Lead UI Designer, Magento Front-end Developer</td>\n",
       "      <td>9900000</td>\n",
       "      <td>1</td>\n",
       "      <td>Bangalore</td>\n",
       "      <td>Full Time</td>\n",
       "      <td>Frontend</td>\n",
       "    </tr>\n",
       "    <tr>\n",
       "      <th>16062</th>\n",
       "      <td>3.8</td>\n",
       "      <td>Amazon</td>\n",
       "      <td>Software Development Engineer (SDE)</td>\n",
       "      <td>9850000</td>\n",
       "      <td>1</td>\n",
       "      <td>Kolkata</td>\n",
       "      <td>Full Time</td>\n",
       "      <td>SDE</td>\n",
       "    </tr>\n",
       "    <tr>\n",
       "      <th>18654</th>\n",
       "      <td>4.3</td>\n",
       "      <td>Digital Raju</td>\n",
       "      <td>Software Development Engineer (SDE)</td>\n",
       "      <td>9800000</td>\n",
       "      <td>1</td>\n",
       "      <td>New Delhi</td>\n",
       "      <td>Full Time</td>\n",
       "      <td>SDE</td>\n",
       "    </tr>\n",
       "    <tr>\n",
       "      <th>16619</th>\n",
       "      <td>4.2</td>\n",
       "      <td>FFF Enterprises</td>\n",
       "      <td>Non Software Development Engineer</td>\n",
       "      <td>9800000</td>\n",
       "      <td>1</td>\n",
       "      <td>Mumbai</td>\n",
       "      <td>Full Time</td>\n",
       "      <td>SDE</td>\n",
       "    </tr>\n",
       "    <tr>\n",
       "      <th>15568</th>\n",
       "      <td>5.0</td>\n",
       "      <td>Gaana Lyrics Point.com</td>\n",
       "      <td>Software Development Engineer (SDE) II</td>\n",
       "      <td>9700000</td>\n",
       "      <td>1</td>\n",
       "      <td>Hyderabad</td>\n",
       "      <td>Full Time</td>\n",
       "      <td>SDE</td>\n",
       "    </tr>\n",
       "    <tr>\n",
       "      <th>10832</th>\n",
       "      <td>4.6</td>\n",
       "      <td>GGH Heavy Industries</td>\n",
       "      <td>Best Buy Mobile Sales Associate</td>\n",
       "      <td>9600000</td>\n",
       "      <td>1</td>\n",
       "      <td>Bangalore</td>\n",
       "      <td>Full Time</td>\n",
       "      <td>Mobile</td>\n",
       "    </tr>\n",
       "  </tbody>\n",
       "</table>\n",
       "</div>"
      ],
      "text/plain": [
       "       Rating            Company Name  \\\n",
       "18635     3.6       Thapar University   \n",
       "9260      3.6       OASYS Cybernetics   \n",
       "4471      3.8              Concentrix   \n",
       "7121      3.5          Koru UX Design   \n",
       "5819      3.7          Nityo Infotech   \n",
       "16062     3.8                  Amazon   \n",
       "18654     4.3            Digital Raju   \n",
       "16619     4.2         FFF Enterprises   \n",
       "15568     5.0  Gaana Lyrics Point.com   \n",
       "10832     4.6    GGH Heavy Industries   \n",
       "\n",
       "                                           Job Title    Salary  \\\n",
       "18635            Software Development Engineer (SDE)  90000000   \n",
       "9260                           Senior Java Developer  10000000   \n",
       "4471                   Oracle Database Administrator  10000000   \n",
       "7121                      Senior Front End Developer  10000000   \n",
       "5819   Lead UI Designer, Magento Front-end Developer   9900000   \n",
       "16062            Software Development Engineer (SDE)   9850000   \n",
       "18654            Software Development Engineer (SDE)   9800000   \n",
       "16619              Non Software Development Engineer   9800000   \n",
       "15568         Software Development Engineer (SDE) II   9700000   \n",
       "10832                Best Buy Mobile Sales Associate   9600000   \n",
       "\n",
       "       Salaries Reported   Location Employment Status Job Roles  \n",
       "18635                  1  New Delhi         Full Time       SDE  \n",
       "9260                   1    Chennai         Full Time      Java  \n",
       "4471                   1  Bangalore         Full Time  Database  \n",
       "7121                   1       Pune         Full Time  Frontend  \n",
       "5819                   1  Bangalore         Full Time  Frontend  \n",
       "16062                  1    Kolkata         Full Time       SDE  \n",
       "18654                  1  New Delhi         Full Time       SDE  \n",
       "16619                  1     Mumbai         Full Time       SDE  \n",
       "15568                  1  Hyderabad         Full Time       SDE  \n",
       "10832                  1  Bangalore         Full Time    Mobile  "
      ]
     },
     "execution_count": 32,
     "metadata": {},
     "output_type": "execute_result"
    }
   ],
   "source": [
    "# Top 10 Highest Salary Jobs\n",
    "df.nlargest(10,['Salary'])"
   ]
  },
  {
   "cell_type": "code",
   "execution_count": 33,
   "id": "8a416083",
   "metadata": {},
   "outputs": [
    {
     "data": {
      "text/html": [
       "<div>\n",
       "<style scoped>\n",
       "    .dataframe tbody tr th:only-of-type {\n",
       "        vertical-align: middle;\n",
       "    }\n",
       "\n",
       "    .dataframe tbody tr th {\n",
       "        vertical-align: top;\n",
       "    }\n",
       "\n",
       "    .dataframe thead th {\n",
       "        text-align: right;\n",
       "    }\n",
       "</style>\n",
       "<table border=\"1\" class=\"dataframe\">\n",
       "  <thead>\n",
       "    <tr style=\"text-align: right;\">\n",
       "      <th></th>\n",
       "      <th>Rating</th>\n",
       "      <th>Company Name</th>\n",
       "      <th>Job Title</th>\n",
       "      <th>Salary</th>\n",
       "      <th>Salaries Reported</th>\n",
       "      <th>Location</th>\n",
       "      <th>Employment Status</th>\n",
       "      <th>Job Roles</th>\n",
       "    </tr>\n",
       "  </thead>\n",
       "  <tbody>\n",
       "    <tr>\n",
       "      <th>22563</th>\n",
       "      <td>2.6</td>\n",
       "      <td>Keeves Technologies</td>\n",
       "      <td>Web Developer - Intern</td>\n",
       "      <td>2112</td>\n",
       "      <td>1</td>\n",
       "      <td>Bangalore</td>\n",
       "      <td>Intern</td>\n",
       "      <td>Web</td>\n",
       "    </tr>\n",
       "    <tr>\n",
       "      <th>9937</th>\n",
       "      <td>3.7</td>\n",
       "      <td>Virtusa</td>\n",
       "      <td>Junior Java Developer</td>\n",
       "      <td>8448</td>\n",
       "      <td>5</td>\n",
       "      <td>Hyderabad</td>\n",
       "      <td>Full Time</td>\n",
       "      <td>Java</td>\n",
       "    </tr>\n",
       "    <tr>\n",
       "      <th>5463</th>\n",
       "      <td>4.1</td>\n",
       "      <td>Scholify</td>\n",
       "      <td>Front End Developer - Intern</td>\n",
       "      <td>12000</td>\n",
       "      <td>1</td>\n",
       "      <td>Bangalore</td>\n",
       "      <td>Intern</td>\n",
       "      <td>Frontend</td>\n",
       "    </tr>\n",
       "    <tr>\n",
       "      <th>14659</th>\n",
       "      <td>4.4</td>\n",
       "      <td>Microsoft</td>\n",
       "      <td>Software Development Engineer</td>\n",
       "      <td>12000</td>\n",
       "      <td>1</td>\n",
       "      <td>Hyderabad</td>\n",
       "      <td>Full Time</td>\n",
       "      <td>SDE</td>\n",
       "    </tr>\n",
       "    <tr>\n",
       "      <th>5548</th>\n",
       "      <td>4.0</td>\n",
       "      <td>Nasya Software Technologies</td>\n",
       "      <td>Front End Developer - Intern</td>\n",
       "      <td>12000</td>\n",
       "      <td>1</td>\n",
       "      <td>Bangalore</td>\n",
       "      <td>Intern</td>\n",
       "      <td>Frontend</td>\n",
       "    </tr>\n",
       "    <tr>\n",
       "      <th>7514</th>\n",
       "      <td>3.9</td>\n",
       "      <td>Al-Jazirah</td>\n",
       "      <td>Senior IOS Developer</td>\n",
       "      <td>12000</td>\n",
       "      <td>1</td>\n",
       "      <td>Bangalore</td>\n",
       "      <td>Full Time</td>\n",
       "      <td>IOS</td>\n",
       "    </tr>\n",
       "    <tr>\n",
       "      <th>22028</th>\n",
       "      <td>3.9</td>\n",
       "      <td>Yes Bank</td>\n",
       "      <td>Web Developer</td>\n",
       "      <td>12000</td>\n",
       "      <td>1</td>\n",
       "      <td>Bangalore</td>\n",
       "      <td>Full Time</td>\n",
       "      <td>Web</td>\n",
       "    </tr>\n",
       "    <tr>\n",
       "      <th>2472</th>\n",
       "      <td>3.5</td>\n",
       "      <td>Acmatics Technologies</td>\n",
       "      <td>Android Developer</td>\n",
       "      <td>12000</td>\n",
       "      <td>1</td>\n",
       "      <td>New Delhi</td>\n",
       "      <td>Full Time</td>\n",
       "      <td>Android</td>\n",
       "    </tr>\n",
       "    <tr>\n",
       "      <th>18429</th>\n",
       "      <td>4.0</td>\n",
       "      <td>....</td>\n",
       "      <td>Software Development Engineer (SDE)</td>\n",
       "      <td>12000</td>\n",
       "      <td>1</td>\n",
       "      <td>New Delhi</td>\n",
       "      <td>Full Time</td>\n",
       "      <td>SDE</td>\n",
       "    </tr>\n",
       "    <tr>\n",
       "      <th>16838</th>\n",
       "      <td>4.4</td>\n",
       "      <td>Excel Engineering Services</td>\n",
       "      <td>Senior Software Development Engineer</td>\n",
       "      <td>12000</td>\n",
       "      <td>1</td>\n",
       "      <td>Mumbai</td>\n",
       "      <td>Full Time</td>\n",
       "      <td>SDE</td>\n",
       "    </tr>\n",
       "  </tbody>\n",
       "</table>\n",
       "</div>"
      ],
      "text/plain": [
       "       Rating                 Company Name  \\\n",
       "22563     2.6          Keeves Technologies   \n",
       "9937      3.7                      Virtusa   \n",
       "5463      4.1                     Scholify   \n",
       "14659     4.4                    Microsoft   \n",
       "5548      4.0  Nasya Software Technologies   \n",
       "7514      3.9                   Al-Jazirah   \n",
       "22028     3.9                     Yes Bank   \n",
       "2472      3.5        Acmatics Technologies   \n",
       "18429     4.0                         ....   \n",
       "16838     4.4   Excel Engineering Services   \n",
       "\n",
       "                                  Job Title  Salary  Salaries Reported  \\\n",
       "22563                Web Developer - Intern    2112                  1   \n",
       "9937                  Junior Java Developer    8448                  5   \n",
       "5463           Front End Developer - Intern   12000                  1   \n",
       "14659         Software Development Engineer   12000                  1   \n",
       "5548           Front End Developer - Intern   12000                  1   \n",
       "7514                   Senior IOS Developer   12000                  1   \n",
       "22028                         Web Developer   12000                  1   \n",
       "2472                      Android Developer   12000                  1   \n",
       "18429   Software Development Engineer (SDE)   12000                  1   \n",
       "16838  Senior Software Development Engineer   12000                  1   \n",
       "\n",
       "        Location Employment Status Job Roles  \n",
       "22563  Bangalore            Intern       Web  \n",
       "9937   Hyderabad         Full Time      Java  \n",
       "5463   Bangalore            Intern  Frontend  \n",
       "14659  Hyderabad         Full Time       SDE  \n",
       "5548   Bangalore            Intern  Frontend  \n",
       "7514   Bangalore         Full Time       IOS  \n",
       "22028  Bangalore         Full Time       Web  \n",
       "2472   New Delhi         Full Time   Android  \n",
       "18429  New Delhi         Full Time       SDE  \n",
       "16838     Mumbai         Full Time       SDE  "
      ]
     },
     "execution_count": 33,
     "metadata": {},
     "output_type": "execute_result"
    }
   ],
   "source": [
    "# Top 10 Lowest Salary Jobs\n",
    "df.nsmallest(10,['Salary'])"
   ]
  },
  {
   "cell_type": "markdown",
   "id": "848c9d91",
   "metadata": {},
   "source": [
    "# Finding out the correlation between the columns"
   ]
  },
  {
   "cell_type": "code",
   "execution_count": 34,
   "id": "f9c1330c",
   "metadata": {},
   "outputs": [
    {
     "data": {
      "text/html": [
       "<div>\n",
       "<style scoped>\n",
       "    .dataframe tbody tr th:only-of-type {\n",
       "        vertical-align: middle;\n",
       "    }\n",
       "\n",
       "    .dataframe tbody tr th {\n",
       "        vertical-align: top;\n",
       "    }\n",
       "\n",
       "    .dataframe thead th {\n",
       "        text-align: right;\n",
       "    }\n",
       "</style>\n",
       "<table border=\"1\" class=\"dataframe\">\n",
       "  <thead>\n",
       "    <tr style=\"text-align: right;\">\n",
       "      <th></th>\n",
       "      <th>Rating</th>\n",
       "      <th>Salary</th>\n",
       "      <th>Salaries Reported</th>\n",
       "    </tr>\n",
       "  </thead>\n",
       "  <tbody>\n",
       "    <tr>\n",
       "      <th>Rating</th>\n",
       "      <td>1.000000</td>\n",
       "      <td>0.025476</td>\n",
       "      <td>-0.011690</td>\n",
       "    </tr>\n",
       "    <tr>\n",
       "      <th>Salary</th>\n",
       "      <td>0.025476</td>\n",
       "      <td>1.000000</td>\n",
       "      <td>0.004481</td>\n",
       "    </tr>\n",
       "    <tr>\n",
       "      <th>Salaries Reported</th>\n",
       "      <td>-0.011690</td>\n",
       "      <td>0.004481</td>\n",
       "      <td>1.000000</td>\n",
       "    </tr>\n",
       "  </tbody>\n",
       "</table>\n",
       "</div>"
      ],
      "text/plain": [
       "                     Rating    Salary  Salaries Reported\n",
       "Rating             1.000000  0.025476          -0.011690\n",
       "Salary             0.025476  1.000000           0.004481\n",
       "Salaries Reported -0.011690  0.004481           1.000000"
      ]
     },
     "execution_count": 34,
     "metadata": {},
     "output_type": "execute_result"
    }
   ],
   "source": [
    "df.corr()"
   ]
  },
  {
   "cell_type": "code",
   "execution_count": 35,
   "id": "4ac4d461",
   "metadata": {},
   "outputs": [
    {
     "data": {
      "text/plain": [
       "<AxesSubplot:>"
      ]
     },
     "execution_count": 35,
     "metadata": {},
     "output_type": "execute_result"
    },
    {
     "data": {
      "image/png": "[encoded data removed]",
      "text/plain": [
       "<Figure size 432x288 with 2 Axes>"
      ]
     },
     "metadata": {
      "needs_background": "light"
     },
     "output_type": "display_data"
    }
   ],
   "source": [
    "sns.heatmap(df.corr(),annot=True)"
   ]
  },
  {
   "cell_type": "code",
   "execution_count": 36,
   "id": "feefab73",
   "metadata": {},
   "outputs": [
    {
     "data": {
      "text/html": [
       "<div>\n",
       "<style scoped>\n",
       "    .dataframe tbody tr th:only-of-type {\n",
       "        vertical-align: middle;\n",
       "    }\n",
       "\n",
       "    .dataframe tbody tr th {\n",
       "        vertical-align: top;\n",
       "    }\n",
       "\n",
       "    .dataframe thead th {\n",
       "        text-align: right;\n",
       "    }\n",
       "</style>\n",
       "<table border=\"1\" class=\"dataframe\">\n",
       "  <thead>\n",
       "    <tr style=\"text-align: right;\">\n",
       "      <th></th>\n",
       "      <th>Rating</th>\n",
       "      <th>Company Name</th>\n",
       "      <th>Job Title</th>\n",
       "      <th>Salary</th>\n",
       "      <th>Salaries Reported</th>\n",
       "      <th>Location</th>\n",
       "      <th>Employment Status</th>\n",
       "      <th>Job Roles</th>\n",
       "    </tr>\n",
       "  </thead>\n",
       "  <tbody>\n",
       "    <tr>\n",
       "      <th>18635</th>\n",
       "      <td>3.6</td>\n",
       "      <td>Thapar University</td>\n",
       "      <td>Software Development Engineer (SDE)</td>\n",
       "      <td>90000000</td>\n",
       "      <td>1</td>\n",
       "      <td>New Delhi</td>\n",
       "      <td>Full Time</td>\n",
       "      <td>SDE</td>\n",
       "    </tr>\n",
       "    <tr>\n",
       "      <th>9260</th>\n",
       "      <td>3.6</td>\n",
       "      <td>OASYS Cybernetics</td>\n",
       "      <td>Senior Java Developer</td>\n",
       "      <td>10000000</td>\n",
       "      <td>1</td>\n",
       "      <td>Chennai</td>\n",
       "      <td>Full Time</td>\n",
       "      <td>Java</td>\n",
       "    </tr>\n",
       "  </tbody>\n",
       "</table>\n",
       "</div>"
      ],
      "text/plain": [
       "       Rating       Company Name                            Job Title  \\\n",
       "18635     3.6  Thapar University  Software Development Engineer (SDE)   \n",
       "9260      3.6  OASYS Cybernetics                Senior Java Developer   \n",
       "\n",
       "         Salary  Salaries Reported   Location Employment Status Job Roles  \n",
       "18635  90000000                  1  New Delhi         Full Time       SDE  \n",
       "9260   10000000                  1    Chennai         Full Time      Java  "
      ]
     },
     "execution_count": 36,
     "metadata": {},
     "output_type": "execute_result"
    }
   ],
   "source": [
    "df.head(2)"
   ]
  },
  {
   "cell_type": "markdown",
   "id": "36dd1db0",
   "metadata": {},
   "source": [
    "# We want to check relationship between Job Roles and Employment Status"
   ]
  },
  {
   "cell_type": "code",
   "execution_count": 37,
   "id": "0890ebec",
   "metadata": {},
   "outputs": [],
   "source": [
    "observation_table = pd.crosstab(df['Employment Status'],df['Job Roles'])"
   ]
  },
  {
   "cell_type": "code",
   "execution_count": 38,
   "id": "a248e547",
   "metadata": {},
   "outputs": [],
   "source": [
    "chi_value, p_value, degree_of_freedom, expectation_table = st.chi2_contingency(observation_table)"
   ]
  },
  {
   "cell_type": "code",
   "execution_count": 39,
   "id": "a7d7abb3",
   "metadata": {},
   "outputs": [
    {
     "name": "stdout",
     "output_type": "stream",
     "text": [
      "There is no relation between job roles and employment status\n"
     ]
    }
   ],
   "source": [
    "alpha = 0.05\n",
    "if p_value<alpha:\n",
    "    print(\"There is no relation between job roles and employment status\")\n",
    "else:\n",
    "    print(\"There is relation between job roles and employment status\")"
   ]
  },
  {
   "cell_type": "code",
   "execution_count": 40,
   "id": "c2f2d834",
   "metadata": {},
   "outputs": [
    {
     "data": {
      "text/html": [
       "<div>\n",
       "<style scoped>\n",
       "    .dataframe tbody tr th:only-of-type {\n",
       "        vertical-align: middle;\n",
       "    }\n",
       "\n",
       "    .dataframe tbody tr th {\n",
       "        vertical-align: top;\n",
       "    }\n",
       "\n",
       "    .dataframe thead th {\n",
       "        text-align: right;\n",
       "    }\n",
       "</style>\n",
       "<table border=\"1\" class=\"dataframe\">\n",
       "  <thead>\n",
       "    <tr style=\"text-align: right;\">\n",
       "      <th></th>\n",
       "      <th>Rating</th>\n",
       "      <th>Company Name</th>\n",
       "      <th>Job Title</th>\n",
       "      <th>Salary</th>\n",
       "      <th>Salaries Reported</th>\n",
       "      <th>Location</th>\n",
       "      <th>Employment Status</th>\n",
       "      <th>Job Roles</th>\n",
       "    </tr>\n",
       "  </thead>\n",
       "  <tbody>\n",
       "    <tr>\n",
       "      <th>18635</th>\n",
       "      <td>3.6</td>\n",
       "      <td>Thapar University</td>\n",
       "      <td>Software Development Engineer (SDE)</td>\n",
       "      <td>90000000</td>\n",
       "      <td>1</td>\n",
       "      <td>New Delhi</td>\n",
       "      <td>Full Time</td>\n",
       "      <td>SDE</td>\n",
       "    </tr>\n",
       "    <tr>\n",
       "      <th>9260</th>\n",
       "      <td>3.6</td>\n",
       "      <td>OASYS Cybernetics</td>\n",
       "      <td>Senior Java Developer</td>\n",
       "      <td>10000000</td>\n",
       "      <td>1</td>\n",
       "      <td>Chennai</td>\n",
       "      <td>Full Time</td>\n",
       "      <td>Java</td>\n",
       "    </tr>\n",
       "    <tr>\n",
       "      <th>4471</th>\n",
       "      <td>3.8</td>\n",
       "      <td>Concentrix</td>\n",
       "      <td>Oracle Database Administrator</td>\n",
       "      <td>10000000</td>\n",
       "      <td>1</td>\n",
       "      <td>Bangalore</td>\n",
       "      <td>Full Time</td>\n",
       "      <td>Database</td>\n",
       "    </tr>\n",
       "    <tr>\n",
       "      <th>7121</th>\n",
       "      <td>3.5</td>\n",
       "      <td>Koru UX Design</td>\n",
       "      <td>Senior Front End Developer</td>\n",
       "      <td>10000000</td>\n",
       "      <td>1</td>\n",
       "      <td>Pune</td>\n",
       "      <td>Full Time</td>\n",
       "      <td>Frontend</td>\n",
       "    </tr>\n",
       "    <tr>\n",
       "      <th>5819</th>\n",
       "      <td>3.7</td>\n",
       "      <td>Nityo Infotech</td>\n",
       "      <td>Lead UI Designer, Magento Front-end Developer</td>\n",
       "      <td>9900000</td>\n",
       "      <td>1</td>\n",
       "      <td>Bangalore</td>\n",
       "      <td>Full Time</td>\n",
       "      <td>Frontend</td>\n",
       "    </tr>\n",
       "  </tbody>\n",
       "</table>\n",
       "</div>"
      ],
      "text/plain": [
       "       Rating       Company Name  \\\n",
       "18635     3.6  Thapar University   \n",
       "9260      3.6  OASYS Cybernetics   \n",
       "4471      3.8         Concentrix   \n",
       "7121      3.5     Koru UX Design   \n",
       "5819      3.7     Nityo Infotech   \n",
       "\n",
       "                                           Job Title    Salary  \\\n",
       "18635            Software Development Engineer (SDE)  90000000   \n",
       "9260                           Senior Java Developer  10000000   \n",
       "4471                   Oracle Database Administrator  10000000   \n",
       "7121                      Senior Front End Developer  10000000   \n",
       "5819   Lead UI Designer, Magento Front-end Developer   9900000   \n",
       "\n",
       "       Salaries Reported   Location Employment Status Job Roles  \n",
       "18635                  1  New Delhi         Full Time       SDE  \n",
       "9260                   1    Chennai         Full Time      Java  \n",
       "4471                   1  Bangalore         Full Time  Database  \n",
       "7121                   1       Pune         Full Time  Frontend  \n",
       "5819                   1  Bangalore         Full Time  Frontend  "
      ]
     },
     "execution_count": 40,
     "metadata": {},
     "output_type": "execute_result"
    }
   ],
   "source": [
    "df.head()"
   ]
  },
  {
   "cell_type": "markdown",
   "id": "85d06b0a",
   "metadata": {},
   "source": [
    "# We want to check relationship between Job Roles and Company Name"
   ]
  },
  {
   "cell_type": "code",
   "execution_count": 41,
   "id": "e186e8e0",
   "metadata": {},
   "outputs": [],
   "source": [
    "observation_table1 = pd.crosstab(df['Company Name'],df['Job Roles'])"
   ]
  },
  {
   "cell_type": "code",
   "execution_count": 42,
   "id": "cad99d41",
   "metadata": {},
   "outputs": [],
   "source": [
    "chi_value1, p_value1, degree_of_freedom1, expectation_table1 = st.chi2_contingency(observation_table1)"
   ]
  },
  {
   "cell_type": "code",
   "execution_count": 43,
   "id": "63daaf6b",
   "metadata": {},
   "outputs": [
    {
     "name": "stdout",
     "output_type": "stream",
     "text": [
      "There is no relation between job roles and employment status\n"
     ]
    }
   ],
   "source": [
    "alpha = 0.05\n",
    "if p_value1<alpha:\n",
    "    print(\"There is no relation between job roles and employment status\")\n",
    "else:\n",
    "    print(\"There is relation between job roles and employment status\")"
   ]
  },
  {
   "cell_type": "code",
   "execution_count": null,
   "id": "105b880a",
   "metadata": {},
   "outputs": [],
   "source": []
  },
  {
   "cell_type": "code",
   "execution_count": null,
   "id": "96cca09f",
   "metadata": {},
   "outputs": [],
   "source": []
  },
  {
   "cell_type": "code",
   "execution_count": null,
   "id": "12f0f6a8",
   "metadata": {},
   "outputs": [],
   "source": []
  }
 ],
 "metadata": {
  "kernelspec": {
   "display_name": "Python 3 (ipykernel)",
   "language": "python",
   "name": "python3"
  },
  "language_info": {
   "codemirror_mode": {
    "name": "ipython",
    "version": 3
   },
   "file_extension": ".py",
   "mimetype": "text/x-python",
   "name": "python",
   "nbconvert_exporter": "python",
   "pygments_lexer": "ipython3",
   "version": "3.10.2"
  }
 },
 "nbformat": 4,
 "nbformat_minor": 5
}
