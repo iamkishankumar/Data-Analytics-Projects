{
 "cells": [
  {
   "cell_type": "markdown",
   "id": "fc4a5747",
   "metadata": {},
   "source": [
    "<a id=\"top\"></a>\n",
    "<div class=\"list-group\" id=\"list-tab\" role=\"tablist\">\n",
    "<h3 class=\"list-group-item list-group-item-action active\" data-toggle=\"list\" role=\"tab\" aria-controls=\"home\">Table of Content</h3>\n",
    "\n",
    "* [1. Libraries](#1)\n",
    "* [2. Reading and Exploring the Data](#2)\n",
    "* [3. Graphical Exploration](#3)\n",
    "    - [3.1 Which restaurant received the most orders?](#3.1)\n",
    "    - [3.2 Which restaurant saw most sales?](#3.2)\n",
    "    - [3.3 Which customer ordered the most?](#3.3)\n",
    "    - [3.4 When do customers order more in a day?](#3.4)\n",
    "    - [3.5 Which is the most liked cuisine?](#3.5)\n",
    "    - [3.6 Which zone has the most sales?](#3.6)  \n",
    "* [4. Conclusion of the EDA](#4)"
   ]
  },
  {
   "cell_type": "markdown",
   "id": "1ba9c168",
   "metadata": {},
   "source": [
    "<a id=\"1\"></a>\n",
    "<font color=\"darkslateblue\" size=+2.5><b>1. Libraries</b></font>"
   ]
  },
  {
   "cell_type": "code",
   "execution_count": 1,
   "id": "a156d166",
   "metadata": {},
   "outputs": [],
   "source": [
    "import numpy as np\n",
    "import pandas as pd\n",
    "import matplotlib.pyplot as plt\n",
    "%matplotlib inline\n",
    "import seaborn as sns\n",
    "import openpyxl\n",
    "\n",
    "from warnings import filterwarnings\n",
    "filterwarnings(\"ignore\")"
   ]
  },
  {
   "cell_type": "markdown",
   "id": "999dc566",
   "metadata": {},
   "source": [
    "<a id=\"2\"></a>\n",
    "<font color=\"darkslateblue\" size=+2.5><b>2. Reading and Exploring the Data</b></font>"
   ]
  },
  {
   "cell_type": "code",
   "execution_count": 2,
   "id": "9bd4ddd0",
   "metadata": {},
   "outputs": [],
   "source": [
    "rest = pd.read_excel(\"Restaurants.xlsx\")\n",
    "order = pd.read_excel(\"Orders.xlsx\")"
   ]
  },
  {
   "cell_type": "code",
   "execution_count": 3,
   "id": "83d96932",
   "metadata": {},
   "outputs": [
    {
     "data": {
      "text/html": [
       "<div>\n",
       "<style scoped>\n",
       "    .dataframe tbody tr th:only-of-type {\n",
       "        vertical-align: middle;\n",
       "    }\n",
       "\n",
       "    .dataframe tbody tr th {\n",
       "        vertical-align: top;\n",
       "    }\n",
       "\n",
       "    .dataframe thead th {\n",
       "        text-align: right;\n",
       "    }\n",
       "</style>\n",
       "<table border=\"1\" class=\"dataframe\">\n",
       "  <thead>\n",
       "    <tr style=\"text-align: right;\">\n",
       "      <th></th>\n",
       "      <th>Order ID</th>\n",
       "      <th>Customer Name</th>\n",
       "      <th>Restaurant ID</th>\n",
       "      <th>Order Date</th>\n",
       "      <th>Quantity of Items</th>\n",
       "      <th>Order Amount</th>\n",
       "      <th>Payment Mode</th>\n",
       "      <th>Delivery Time Taken (mins)</th>\n",
       "      <th>Customer Rating-Food</th>\n",
       "      <th>Customer Rating-Delivery</th>\n",
       "    </tr>\n",
       "  </thead>\n",
       "  <tbody>\n",
       "    <tr>\n",
       "      <th>0</th>\n",
       "      <td>OD1</td>\n",
       "      <td>Srini</td>\n",
       "      <td>6</td>\n",
       "      <td>2022-01-01 23:15:00</td>\n",
       "      <td>5</td>\n",
       "      <td>633</td>\n",
       "      <td>Debit Card</td>\n",
       "      <td>47</td>\n",
       "      <td>5</td>\n",
       "      <td>3</td>\n",
       "    </tr>\n",
       "    <tr>\n",
       "      <th>1</th>\n",
       "      <td>OD2</td>\n",
       "      <td>Revandh</td>\n",
       "      <td>13</td>\n",
       "      <td>2022-01-01 19:21:00</td>\n",
       "      <td>5</td>\n",
       "      <td>258</td>\n",
       "      <td>Credit Card</td>\n",
       "      <td>41</td>\n",
       "      <td>3</td>\n",
       "      <td>5</td>\n",
       "    </tr>\n",
       "    <tr>\n",
       "      <th>2</th>\n",
       "      <td>OD3</td>\n",
       "      <td>David</td>\n",
       "      <td>9</td>\n",
       "      <td>2022-01-01 23:15:00</td>\n",
       "      <td>7</td>\n",
       "      <td>594</td>\n",
       "      <td>Cash on Delivery</td>\n",
       "      <td>30</td>\n",
       "      <td>3</td>\n",
       "      <td>4</td>\n",
       "    </tr>\n",
       "    <tr>\n",
       "      <th>3</th>\n",
       "      <td>OD4</td>\n",
       "      <td>Selva</td>\n",
       "      <td>4</td>\n",
       "      <td>2022-01-01 20:31:00</td>\n",
       "      <td>5</td>\n",
       "      <td>868</td>\n",
       "      <td>Cash on Delivery</td>\n",
       "      <td>30</td>\n",
       "      <td>3</td>\n",
       "      <td>4</td>\n",
       "    </tr>\n",
       "    <tr>\n",
       "      <th>4</th>\n",
       "      <td>OD5</td>\n",
       "      <td>Vinny</td>\n",
       "      <td>4</td>\n",
       "      <td>2022-01-01 11:10:00</td>\n",
       "      <td>4</td>\n",
       "      <td>170</td>\n",
       "      <td>Debit Card</td>\n",
       "      <td>18</td>\n",
       "      <td>4</td>\n",
       "      <td>3</td>\n",
       "    </tr>\n",
       "    <tr>\n",
       "      <th>...</th>\n",
       "      <td>...</td>\n",
       "      <td>...</td>\n",
       "      <td>...</td>\n",
       "      <td>...</td>\n",
       "      <td>...</td>\n",
       "      <td>...</td>\n",
       "      <td>...</td>\n",
       "      <td>...</td>\n",
       "      <td>...</td>\n",
       "      <td>...</td>\n",
       "    </tr>\n",
       "    <tr>\n",
       "      <th>495</th>\n",
       "      <td>OD496</td>\n",
       "      <td>Chinny</td>\n",
       "      <td>20</td>\n",
       "      <td>2022-01-01 15:22:00</td>\n",
       "      <td>6</td>\n",
       "      <td>1184</td>\n",
       "      <td>Cash on Delivery</td>\n",
       "      <td>13</td>\n",
       "      <td>4</td>\n",
       "      <td>2</td>\n",
       "    </tr>\n",
       "    <tr>\n",
       "      <th>496</th>\n",
       "      <td>OD497</td>\n",
       "      <td>Veronica</td>\n",
       "      <td>17</td>\n",
       "      <td>2022-01-01 13:31:00</td>\n",
       "      <td>5</td>\n",
       "      <td>541</td>\n",
       "      <td>Credit Card</td>\n",
       "      <td>27</td>\n",
       "      <td>4</td>\n",
       "      <td>3</td>\n",
       "    </tr>\n",
       "    <tr>\n",
       "      <th>497</th>\n",
       "      <td>OD498</td>\n",
       "      <td>Chinny</td>\n",
       "      <td>10</td>\n",
       "      <td>2022-01-01 21:31:00</td>\n",
       "      <td>6</td>\n",
       "      <td>1049</td>\n",
       "      <td>Cash on Delivery</td>\n",
       "      <td>27</td>\n",
       "      <td>3</td>\n",
       "      <td>4</td>\n",
       "    </tr>\n",
       "    <tr>\n",
       "      <th>498</th>\n",
       "      <td>OD499</td>\n",
       "      <td>Charlie</td>\n",
       "      <td>2</td>\n",
       "      <td>2022-01-01 14:10:00</td>\n",
       "      <td>5</td>\n",
       "      <td>758</td>\n",
       "      <td>Cash on Delivery</td>\n",
       "      <td>29</td>\n",
       "      <td>3</td>\n",
       "      <td>3</td>\n",
       "    </tr>\n",
       "    <tr>\n",
       "      <th>499</th>\n",
       "      <td>OD500</td>\n",
       "      <td>Sabeena</td>\n",
       "      <td>7</td>\n",
       "      <td>2022-01-01 18:01:00</td>\n",
       "      <td>3</td>\n",
       "      <td>659</td>\n",
       "      <td>Cash on Delivery</td>\n",
       "      <td>11</td>\n",
       "      <td>4</td>\n",
       "      <td>5</td>\n",
       "    </tr>\n",
       "  </tbody>\n",
       "</table>\n",
       "<p>500 rows × 10 columns</p>\n",
       "</div>"
      ],
      "text/plain": [
       "    Order ID Customer Name  Restaurant ID          Order Date  \\\n",
       "0        OD1         Srini              6 2022-01-01 23:15:00   \n",
       "1        OD2       Revandh             13 2022-01-01 19:21:00   \n",
       "2        OD3         David              9 2022-01-01 23:15:00   \n",
       "3        OD4         Selva              4 2022-01-01 20:31:00   \n",
       "4        OD5         Vinny              4 2022-01-01 11:10:00   \n",
       "..       ...           ...            ...                 ...   \n",
       "495    OD496        Chinny             20 2022-01-01 15:22:00   \n",
       "496    OD497      Veronica             17 2022-01-01 13:31:00   \n",
       "497    OD498        Chinny             10 2022-01-01 21:31:00   \n",
       "498    OD499       Charlie              2 2022-01-01 14:10:00   \n",
       "499    OD500       Sabeena              7 2022-01-01 18:01:00   \n",
       "\n",
       "     Quantity of Items  Order Amount      Payment Mode  \\\n",
       "0                    5           633        Debit Card   \n",
       "1                    5           258       Credit Card   \n",
       "2                    7           594  Cash on Delivery   \n",
       "3                    5           868  Cash on Delivery   \n",
       "4                    4           170        Debit Card   \n",
       "..                 ...           ...               ...   \n",
       "495                  6          1184  Cash on Delivery   \n",
       "496                  5           541       Credit Card   \n",
       "497                  6          1049  Cash on Delivery   \n",
       "498                  5           758  Cash on Delivery   \n",
       "499                  3           659  Cash on Delivery   \n",
       "\n",
       "     Delivery Time Taken (mins)  Customer Rating-Food  \\\n",
       "0                            47                     5   \n",
       "1                            41                     3   \n",
       "2                            30                     3   \n",
       "3                            30                     3   \n",
       "4                            18                     4   \n",
       "..                          ...                   ...   \n",
       "495                          13                     4   \n",
       "496                          27                     4   \n",
       "497                          27                     3   \n",
       "498                          29                     3   \n",
       "499                          11                     4   \n",
       "\n",
       "     Customer Rating-Delivery  \n",
       "0                           3  \n",
       "1                           5  \n",
       "2                           4  \n",
       "3                           4  \n",
       "4                           3  \n",
       "..                        ...  \n",
       "495                         2  \n",
       "496                         3  \n",
       "497                         4  \n",
       "498                         3  \n",
       "499                         5  \n",
       "\n",
       "[500 rows x 10 columns]"
      ]
     },
     "execution_count": 3,
     "metadata": {},
     "output_type": "execute_result"
    }
   ],
   "source": [
    "order"
   ]
  },
  {
   "cell_type": "code",
   "execution_count": 4,
   "id": "f60e81d3",
   "metadata": {},
   "outputs": [
    {
     "name": "stdout",
     "output_type": "stream",
     "text": [
      "Order Dataset shape (500, 10)\n"
     ]
    }
   ],
   "source": [
    "print(f'Order Dataset shape {order.shape}')\n"
   ]
  },
  {
   "cell_type": "code",
   "execution_count": 5,
   "id": "718b5788",
   "metadata": {},
   "outputs": [
    {
     "data": {
      "text/html": [
       "<div>\n",
       "<style scoped>\n",
       "    .dataframe tbody tr th:only-of-type {\n",
       "        vertical-align: middle;\n",
       "    }\n",
       "\n",
       "    .dataframe tbody tr th {\n",
       "        vertical-align: top;\n",
       "    }\n",
       "\n",
       "    .dataframe thead th {\n",
       "        text-align: right;\n",
       "    }\n",
       "</style>\n",
       "<table border=\"1\" class=\"dataframe\">\n",
       "  <thead>\n",
       "    <tr style=\"text-align: right;\">\n",
       "      <th></th>\n",
       "      <th>RestaurantID</th>\n",
       "      <th>RestaurantName</th>\n",
       "      <th>Cuisine</th>\n",
       "      <th>Zone</th>\n",
       "      <th>Category</th>\n",
       "    </tr>\n",
       "  </thead>\n",
       "  <tbody>\n",
       "    <tr>\n",
       "      <th>0</th>\n",
       "      <td>1</td>\n",
       "      <td>The Cave Hotel</td>\n",
       "      <td>Continental</td>\n",
       "      <td>Zone B</td>\n",
       "      <td>Pro</td>\n",
       "    </tr>\n",
       "    <tr>\n",
       "      <th>1</th>\n",
       "      <td>2</td>\n",
       "      <td>SSK Hotel</td>\n",
       "      <td>North Indian</td>\n",
       "      <td>Zone D</td>\n",
       "      <td>Pro</td>\n",
       "    </tr>\n",
       "    <tr>\n",
       "      <th>2</th>\n",
       "      <td>3</td>\n",
       "      <td>ASR Restaurant</td>\n",
       "      <td>South Indian</td>\n",
       "      <td>Zone D</td>\n",
       "      <td>Ordinary</td>\n",
       "    </tr>\n",
       "    <tr>\n",
       "      <th>3</th>\n",
       "      <td>4</td>\n",
       "      <td>Win Hotel</td>\n",
       "      <td>South Indian</td>\n",
       "      <td>Zone D</td>\n",
       "      <td>Ordinary</td>\n",
       "    </tr>\n",
       "    <tr>\n",
       "      <th>4</th>\n",
       "      <td>5</td>\n",
       "      <td>Denver Restaurant</td>\n",
       "      <td>Continental</td>\n",
       "      <td>Zone D</td>\n",
       "      <td>Pro</td>\n",
       "    </tr>\n",
       "    <tr>\n",
       "      <th>5</th>\n",
       "      <td>6</td>\n",
       "      <td>Willies</td>\n",
       "      <td>French</td>\n",
       "      <td>Zone D</td>\n",
       "      <td>Pro</td>\n",
       "    </tr>\n",
       "    <tr>\n",
       "      <th>6</th>\n",
       "      <td>7</td>\n",
       "      <td>AMN</td>\n",
       "      <td>North Indian</td>\n",
       "      <td>Zone D</td>\n",
       "      <td>Ordinary</td>\n",
       "    </tr>\n",
       "    <tr>\n",
       "      <th>7</th>\n",
       "      <td>8</td>\n",
       "      <td>Oslo</td>\n",
       "      <td>French</td>\n",
       "      <td>Zone B</td>\n",
       "      <td>Ordinary</td>\n",
       "    </tr>\n",
       "    <tr>\n",
       "      <th>8</th>\n",
       "      <td>9</td>\n",
       "      <td>Excel Restaurant</td>\n",
       "      <td>North Indian</td>\n",
       "      <td>Zone D</td>\n",
       "      <td>Ordinary</td>\n",
       "    </tr>\n",
       "    <tr>\n",
       "      <th>9</th>\n",
       "      <td>10</td>\n",
       "      <td>Dave Hotel</td>\n",
       "      <td>South Indian</td>\n",
       "      <td>Zone A</td>\n",
       "      <td>Ordinary</td>\n",
       "    </tr>\n",
       "    <tr>\n",
       "      <th>10</th>\n",
       "      <td>11</td>\n",
       "      <td>The Taste</td>\n",
       "      <td>French</td>\n",
       "      <td>Zone B</td>\n",
       "      <td>Pro</td>\n",
       "    </tr>\n",
       "    <tr>\n",
       "      <th>11</th>\n",
       "      <td>12</td>\n",
       "      <td>Ruchi</td>\n",
       "      <td>Chinese</td>\n",
       "      <td>Zone B</td>\n",
       "      <td>Ordinary</td>\n",
       "    </tr>\n",
       "    <tr>\n",
       "      <th>12</th>\n",
       "      <td>13</td>\n",
       "      <td>Veer Restaurant</td>\n",
       "      <td>Chinese</td>\n",
       "      <td>Zone D</td>\n",
       "      <td>Ordinary</td>\n",
       "    </tr>\n",
       "    <tr>\n",
       "      <th>13</th>\n",
       "      <td>14</td>\n",
       "      <td>KSR Hotel</td>\n",
       "      <td>Chinese</td>\n",
       "      <td>Zone A</td>\n",
       "      <td>Pro</td>\n",
       "    </tr>\n",
       "    <tr>\n",
       "      <th>14</th>\n",
       "      <td>15</td>\n",
       "      <td>Vrinda Bhavan</td>\n",
       "      <td>North Indian</td>\n",
       "      <td>Zone D</td>\n",
       "      <td>Ordinary</td>\n",
       "    </tr>\n",
       "    <tr>\n",
       "      <th>15</th>\n",
       "      <td>16</td>\n",
       "      <td>Anand Restaurant</td>\n",
       "      <td>African</td>\n",
       "      <td>Zone C</td>\n",
       "      <td>Ordinary</td>\n",
       "    </tr>\n",
       "    <tr>\n",
       "      <th>16</th>\n",
       "      <td>17</td>\n",
       "      <td>Zam Zam</td>\n",
       "      <td>Arabian</td>\n",
       "      <td>Zone C</td>\n",
       "      <td>Ordinary</td>\n",
       "    </tr>\n",
       "    <tr>\n",
       "      <th>17</th>\n",
       "      <td>18</td>\n",
       "      <td>Ellora</td>\n",
       "      <td>African</td>\n",
       "      <td>Zone C</td>\n",
       "      <td>Pro</td>\n",
       "    </tr>\n",
       "    <tr>\n",
       "      <th>18</th>\n",
       "      <td>19</td>\n",
       "      <td>Sam Hotel</td>\n",
       "      <td>Belgian</td>\n",
       "      <td>Zone A</td>\n",
       "      <td>Ordinary</td>\n",
       "    </tr>\n",
       "    <tr>\n",
       "      <th>19</th>\n",
       "      <td>20</td>\n",
       "      <td>Chew Restaurant</td>\n",
       "      <td>Belgian</td>\n",
       "      <td>Zone B</td>\n",
       "      <td>Ordinary</td>\n",
       "    </tr>\n",
       "  </tbody>\n",
       "</table>\n",
       "</div>"
      ],
      "text/plain": [
       "    RestaurantID     RestaurantName       Cuisine    Zone  Category\n",
       "0              1     The Cave Hotel   Continental  Zone B       Pro\n",
       "1              2          SSK Hotel  North Indian  Zone D       Pro\n",
       "2              3     ASR Restaurant  South Indian  Zone D  Ordinary\n",
       "3              4          Win Hotel  South Indian  Zone D  Ordinary\n",
       "4              5  Denver Restaurant   Continental  Zone D       Pro\n",
       "5              6            Willies        French  Zone D       Pro\n",
       "6              7                AMN  North Indian  Zone D  Ordinary\n",
       "7              8               Oslo        French  Zone B  Ordinary\n",
       "8              9   Excel Restaurant  North Indian  Zone D  Ordinary\n",
       "9             10         Dave Hotel  South Indian  Zone A  Ordinary\n",
       "10            11          The Taste        French  Zone B       Pro\n",
       "11            12              Ruchi       Chinese  Zone B  Ordinary\n",
       "12            13    Veer Restaurant       Chinese  Zone D  Ordinary\n",
       "13            14          KSR Hotel       Chinese  Zone A       Pro\n",
       "14            15      Vrinda Bhavan  North Indian  Zone D  Ordinary\n",
       "15            16   Anand Restaurant       African  Zone C  Ordinary\n",
       "16            17            Zam Zam       Arabian  Zone C  Ordinary\n",
       "17            18             Ellora       African  Zone C       Pro\n",
       "18            19          Sam Hotel       Belgian  Zone A  Ordinary\n",
       "19            20    Chew Restaurant       Belgian  Zone B  Ordinary"
      ]
     },
     "execution_count": 5,
     "metadata": {},
     "output_type": "execute_result"
    }
   ],
   "source": [
    "rest"
   ]
  },
  {
   "cell_type": "raw",
   "id": "52a5dbe0",
   "metadata": {},
   "source": [
    "By checking the data shape results, now we know that there are total of 500 rows with 10 columns in the Orders Dataset, here's the explnation of the columns:\n",
    "\n",
    "Order ID: contains the ID number of the delivery order\n",
    "Customer Name: contains the customer name of the delivery order\n",
    "Restaurant ID: contains the ID number of the restaurant\n",
    "Order Date: contains the date and time of the delivery order\n",
    "Quantity of items: contains the number of quantity of items in the delivery order\n",
    "Order Amount: contains the order amount of the delivery order\n",
    "Payment Mode: contains the payment method used by the customer\n",
    "Delivery Time Taken (mins): contains the minutes used for the delivery\n",
    "Customer Rating-Food: contains the rating score of food rated by the customer\n",
    "Customer Rating-Delivery: contains the rating score of delivery rated by the customer"
   ]
  },
  {
   "cell_type": "code",
   "execution_count": 6,
   "id": "8de84280",
   "metadata": {},
   "outputs": [
    {
     "name": "stdout",
     "output_type": "stream",
     "text": [
      "Restaurant Dataset shape : (20, 5)\n"
     ]
    }
   ],
   "source": [
    "print(f'Restaurant Dataset shape : {rest.shape}')"
   ]
  },
  {
   "cell_type": "raw",
   "id": "9d85ea36",
   "metadata": {},
   "source": [
    "While for the Restaurants Dataset, there are a total of 20 rows with 5 columns, here's the meaning of the columnns:\n",
    "\n",
    "Restaurant ID: contains the ID number of the restaurant\n",
    "Restaurant Name: contains the name of the restaurant\n",
    "Cuisine: contains the cuisine type of the restaurant\n",
    "Zone: contains the zone that the restaurant belongs to\n",
    "Category: contains category of the restaurant"
   ]
  },
  {
   "cell_type": "code",
   "execution_count": 7,
   "id": "663375b5",
   "metadata": {},
   "outputs": [
    {
     "data": {
      "text/plain": [
       "RestaurantID      0\n",
       "RestaurantName    0\n",
       "Cuisine           0\n",
       "Zone              0\n",
       "Category          0\n",
       "dtype: int64"
      ]
     },
     "execution_count": 7,
     "metadata": {},
     "output_type": "execute_result"
    }
   ],
   "source": [
    "rest.isna().sum()"
   ]
  },
  {
   "cell_type": "code",
   "execution_count": 8,
   "id": "3a3b1fd7",
   "metadata": {},
   "outputs": [
    {
     "data": {
      "text/plain": [
       "Order ID                      0\n",
       "Customer Name                 0\n",
       "Restaurant ID                 0\n",
       "Order Date                    0\n",
       "Quantity of Items             0\n",
       "Order Amount                  0\n",
       "Payment Mode                  0\n",
       "Delivery Time Taken (mins)    0\n",
       "Customer Rating-Food          0\n",
       "Customer Rating-Delivery      0\n",
       "dtype: int64"
      ]
     },
     "execution_count": 8,
     "metadata": {},
     "output_type": "execute_result"
    }
   ],
   "source": [
    "order.isna().sum()"
   ]
  },
  {
   "cell_type": "raw",
   "id": "ebd7c928",
   "metadata": {},
   "source": [
    "There are no missing values in any dataset"
   ]
  },
  {
   "cell_type": "code",
   "execution_count": 9,
   "id": "0a5ae9c5",
   "metadata": {},
   "outputs": [],
   "source": [
    "# Rename column for merging data\n",
    "rest.rename(columns = {\"RestaurantID\" :\"Restaurant ID\"},inplace=True)"
   ]
  },
  {
   "cell_type": "code",
   "execution_count": 10,
   "id": "c050621c",
   "metadata": {},
   "outputs": [],
   "source": [
    "# Merge both dataset into one dataset for our data analysis\n",
    "df = pd.merge(rest,order,on=\"Restaurant ID\",how=\"left\")"
   ]
  },
  {
   "cell_type": "code",
   "execution_count": 11,
   "id": "8aff1b3d",
   "metadata": {},
   "outputs": [
    {
     "data": {
      "text/plain": [
       "Restaurant ID                 0\n",
       "RestaurantName                0\n",
       "Cuisine                       0\n",
       "Zone                          0\n",
       "Category                      0\n",
       "Order ID                      0\n",
       "Customer Name                 0\n",
       "Order Date                    0\n",
       "Quantity of Items             0\n",
       "Order Amount                  0\n",
       "Payment Mode                  0\n",
       "Delivery Time Taken (mins)    0\n",
       "Customer Rating-Food          0\n",
       "Customer Rating-Delivery      0\n",
       "dtype: int64"
      ]
     },
     "execution_count": 11,
     "metadata": {},
     "output_type": "execute_result"
    }
   ],
   "source": [
    "df.isna().sum()"
   ]
  },
  {
   "cell_type": "markdown",
   "id": "eb2b9825",
   "metadata": {},
   "source": [
    "With the successful merging of both dataset, now it's now to do our exploratory data analysis."
   ]
  },
  {
   "cell_type": "markdown",
   "id": "a9416fc7",
   "metadata": {},
   "source": [
    "<a id=\"3\"></a>\n",
    "<font color=\"darkslateblue\" size=+2.5><b>3. Graphical Exploration</b></font>"
   ]
  },
  {
   "cell_type": "markdown",
   "id": "560e317c",
   "metadata": {},
   "source": [
    "# 3.1 Which restaurant received the most orders?"
   ]
  },
  {
   "cell_type": "code",
   "execution_count": 12,
   "id": "88b11bd9",
   "metadata": {},
   "outputs": [
    {
     "data": {
      "text/plain": [
       "The Cave Hotel       32\n",
       "Ellora               32\n",
       "Chew Restaurant      31\n",
       "Willies              30\n",
       "Veer Restaurant      29\n",
       "Anand Restaurant     29\n",
       "Ruchi                28\n",
       "Win Hotel            27\n",
       "Zam Zam              25\n",
       "Sam Hotel            25\n",
       "KSR Hotel            24\n",
       "Excel Restaurant     23\n",
       "Denver Restaurant    23\n",
       "Oslo                 23\n",
       "ASR Restaurant       23\n",
       "AMN                  22\n",
       "Dave Hotel           20\n",
       "SSK Hotel            20\n",
       "The Taste            18\n",
       "Vrinda Bhavan        16\n",
       "Name: RestaurantName, dtype: int64"
      ]
     },
     "execution_count": 12,
     "metadata": {},
     "output_type": "execute_result"
    }
   ],
   "source": [
    "df[\"RestaurantName\"].value_counts()"
   ]
  },
  {
   "cell_type": "code",
   "execution_count": 13,
   "id": "06f98d50",
   "metadata": {},
   "outputs": [
    {
     "data": {
      "image/png": "[encoded data removed]",
      "text/plain": [
       "<Figure size 1080x504 with 1 Axes>"
      ]
     },
     "metadata": {
      "needs_background": "light"
     },
     "output_type": "display_data"
    }
   ],
   "source": [
    "plt.figure(figsize=(15,7))\n",
    "sns.countplot(df[\"RestaurantName\"],data=df)\n",
    "plt.xticks(rotation=90);"
   ]
  },
  {
   "cell_type": "markdown",
   "id": "ca31ef77",
   "metadata": {},
   "source": [
    "From the graph above, we can see that Ellora and The Cave Hotel received the most orders"
   ]
  },
  {
   "cell_type": "markdown",
   "id": "53977190",
   "metadata": {},
   "source": [
    "# 3.2 Which restaurant saw most sales?"
   ]
  },
  {
   "cell_type": "code",
   "execution_count": 14,
   "id": "4641fcda",
   "metadata": {},
   "outputs": [
    {
     "data": {
      "text/html": [
       "<div>\n",
       "<style scoped>\n",
       "    .dataframe tbody tr th:only-of-type {\n",
       "        vertical-align: middle;\n",
       "    }\n",
       "\n",
       "    .dataframe tbody tr th {\n",
       "        vertical-align: top;\n",
       "    }\n",
       "\n",
       "    .dataframe thead th {\n",
       "        text-align: right;\n",
       "    }\n",
       "</style>\n",
       "<table border=\"1\" class=\"dataframe\">\n",
       "  <thead>\n",
       "    <tr style=\"text-align: right;\">\n",
       "      <th></th>\n",
       "      <th>RestaurantName</th>\n",
       "      <th>Order Amount</th>\n",
       "    </tr>\n",
       "  </thead>\n",
       "  <tbody>\n",
       "    <tr>\n",
       "      <th>15</th>\n",
       "      <td>Veer Restaurant</td>\n",
       "      <td>19168</td>\n",
       "    </tr>\n",
       "    <tr>\n",
       "      <th>13</th>\n",
       "      <td>The Cave Hotel</td>\n",
       "      <td>18934</td>\n",
       "    </tr>\n",
       "    <tr>\n",
       "      <th>2</th>\n",
       "      <td>Anand Restaurant</td>\n",
       "      <td>18589</td>\n",
       "    </tr>\n",
       "    <tr>\n",
       "      <th>17</th>\n",
       "      <td>Willies</td>\n",
       "      <td>18324</td>\n",
       "    </tr>\n",
       "    <tr>\n",
       "      <th>6</th>\n",
       "      <td>Ellora</td>\n",
       "      <td>17863</td>\n",
       "    </tr>\n",
       "    <tr>\n",
       "      <th>3</th>\n",
       "      <td>Chew Restaurant</td>\n",
       "      <td>17596</td>\n",
       "    </tr>\n",
       "    <tr>\n",
       "      <th>12</th>\n",
       "      <td>Sam Hotel</td>\n",
       "      <td>17400</td>\n",
       "    </tr>\n",
       "    <tr>\n",
       "      <th>19</th>\n",
       "      <td>Zam Zam</td>\n",
       "      <td>16622</td>\n",
       "    </tr>\n",
       "    <tr>\n",
       "      <th>5</th>\n",
       "      <td>Denver Restaurant</td>\n",
       "      <td>15948</td>\n",
       "    </tr>\n",
       "    <tr>\n",
       "      <th>18</th>\n",
       "      <td>Win Hotel</td>\n",
       "      <td>15438</td>\n",
       "    </tr>\n",
       "    <tr>\n",
       "      <th>9</th>\n",
       "      <td>Oslo</td>\n",
       "      <td>13815</td>\n",
       "    </tr>\n",
       "    <tr>\n",
       "      <th>10</th>\n",
       "      <td>Ruchi</td>\n",
       "      <td>13674</td>\n",
       "    </tr>\n",
       "    <tr>\n",
       "      <th>14</th>\n",
       "      <td>The Taste</td>\n",
       "      <td>12982</td>\n",
       "    </tr>\n",
       "    <tr>\n",
       "      <th>0</th>\n",
       "      <td>AMN</td>\n",
       "      <td>12926</td>\n",
       "    </tr>\n",
       "    <tr>\n",
       "      <th>8</th>\n",
       "      <td>KSR Hotel</td>\n",
       "      <td>12595</td>\n",
       "    </tr>\n",
       "    <tr>\n",
       "      <th>1</th>\n",
       "      <td>ASR Restaurant</td>\n",
       "      <td>12579</td>\n",
       "    </tr>\n",
       "    <tr>\n",
       "      <th>11</th>\n",
       "      <td>SSK Hotel</td>\n",
       "      <td>12107</td>\n",
       "    </tr>\n",
       "    <tr>\n",
       "      <th>7</th>\n",
       "      <td>Excel Restaurant</td>\n",
       "      <td>11901</td>\n",
       "    </tr>\n",
       "    <tr>\n",
       "      <th>4</th>\n",
       "      <td>Dave Hotel</td>\n",
       "      <td>10838</td>\n",
       "    </tr>\n",
       "    <tr>\n",
       "      <th>16</th>\n",
       "      <td>Vrinda Bhavan</td>\n",
       "      <td>9772</td>\n",
       "    </tr>\n",
       "  </tbody>\n",
       "</table>\n",
       "</div>"
      ],
      "text/plain": [
       "       RestaurantName  Order Amount\n",
       "15    Veer Restaurant         19168\n",
       "13     The Cave Hotel         18934\n",
       "2    Anand Restaurant         18589\n",
       "17            Willies         18324\n",
       "6              Ellora         17863\n",
       "3     Chew Restaurant         17596\n",
       "12          Sam Hotel         17400\n",
       "19            Zam Zam         16622\n",
       "5   Denver Restaurant         15948\n",
       "18          Win Hotel         15438\n",
       "9                Oslo         13815\n",
       "10              Ruchi         13674\n",
       "14          The Taste         12982\n",
       "0                 AMN         12926\n",
       "8           KSR Hotel         12595\n",
       "1      ASR Restaurant         12579\n",
       "11          SSK Hotel         12107\n",
       "7    Excel Restaurant         11901\n",
       "4          Dave Hotel         10838\n",
       "16      Vrinda Bhavan          9772"
      ]
     },
     "execution_count": 14,
     "metadata": {},
     "output_type": "execute_result"
    }
   ],
   "source": [
    "most_sales=df.groupby(by='RestaurantName', as_index=False)[\"Order Amount\"].sum()\n",
    "most_sales=most_sales.sort_values(by='Order Amount', ascending=False)\n",
    "most_sales"
   ]
  },
  {
   "cell_type": "code",
   "execution_count": 15,
   "id": "da4cc586",
   "metadata": {},
   "outputs": [
    {
     "data": {
      "image/png": "[encoded data removed]",
      "text/plain": [
       "<Figure size 864x504 with 1 Axes>"
      ]
     },
     "metadata": {
      "needs_background": "light"
     },
     "output_type": "display_data"
    }
   ],
   "source": [
    "plt.figure(figsize=(12,7))\n",
    "sns.barplot(y='RestaurantName', x='Order Amount', data=most_sales, palette='magma');"
   ]
  },
  {
   "cell_type": "markdown",
   "id": "5f8339bc",
   "metadata": {},
   "source": [
    "From the bar graph above, we can see that Veer Restaurant got the Most Sales with a total Order Amount of 19168."
   ]
  },
  {
   "cell_type": "code",
   "execution_count": null,
   "id": "4e7c7046",
   "metadata": {},
   "outputs": [],
   "source": []
  },
  {
   "cell_type": "markdown",
   "id": "b3a959e2",
   "metadata": {},
   "source": [
    "# 3.3 Which customer ordered the most?"
   ]
  },
  {
   "cell_type": "code",
   "execution_count": 16,
   "id": "0ded23a0",
   "metadata": {},
   "outputs": [
    {
     "data": {
      "text/html": [
       "<div>\n",
       "<style scoped>\n",
       "    .dataframe tbody tr th:only-of-type {\n",
       "        vertical-align: middle;\n",
       "    }\n",
       "\n",
       "    .dataframe tbody tr th {\n",
       "        vertical-align: top;\n",
       "    }\n",
       "\n",
       "    .dataframe thead th {\n",
       "        text-align: right;\n",
       "    }\n",
       "</style>\n",
       "<table border=\"1\" class=\"dataframe\">\n",
       "  <thead>\n",
       "    <tr style=\"text-align: right;\">\n",
       "      <th></th>\n",
       "      <th>Restaurant ID</th>\n",
       "      <th>RestaurantName</th>\n",
       "      <th>Cuisine</th>\n",
       "      <th>Zone</th>\n",
       "      <th>Category</th>\n",
       "      <th>Order ID</th>\n",
       "      <th>Customer Name</th>\n",
       "      <th>Order Date</th>\n",
       "      <th>Quantity of Items</th>\n",
       "      <th>Order Amount</th>\n",
       "      <th>Payment Mode</th>\n",
       "      <th>Delivery Time Taken (mins)</th>\n",
       "      <th>Customer Rating-Food</th>\n",
       "      <th>Customer Rating-Delivery</th>\n",
       "    </tr>\n",
       "  </thead>\n",
       "  <tbody>\n",
       "    <tr>\n",
       "      <th>0</th>\n",
       "      <td>1</td>\n",
       "      <td>The Cave Hotel</td>\n",
       "      <td>Continental</td>\n",
       "      <td>Zone B</td>\n",
       "      <td>Pro</td>\n",
       "      <td>OD9</td>\n",
       "      <td>David</td>\n",
       "      <td>2022-01-01 13:39:00</td>\n",
       "      <td>5</td>\n",
       "      <td>248</td>\n",
       "      <td>Debit Card</td>\n",
       "      <td>27</td>\n",
       "      <td>3</td>\n",
       "      <td>4</td>\n",
       "    </tr>\n",
       "    <tr>\n",
       "      <th>1</th>\n",
       "      <td>1</td>\n",
       "      <td>The Cave Hotel</td>\n",
       "      <td>Continental</td>\n",
       "      <td>Zone B</td>\n",
       "      <td>Pro</td>\n",
       "      <td>OD16</td>\n",
       "      <td>Meera</td>\n",
       "      <td>2022-01-01 12:19:00</td>\n",
       "      <td>5</td>\n",
       "      <td>546</td>\n",
       "      <td>Cash on Delivery</td>\n",
       "      <td>28</td>\n",
       "      <td>5</td>\n",
       "      <td>2</td>\n",
       "    </tr>\n",
       "    <tr>\n",
       "      <th>2</th>\n",
       "      <td>1</td>\n",
       "      <td>The Cave Hotel</td>\n",
       "      <td>Continental</td>\n",
       "      <td>Zone B</td>\n",
       "      <td>Pro</td>\n",
       "      <td>OD22</td>\n",
       "      <td>Suhaib</td>\n",
       "      <td>2022-01-01 17:39:00</td>\n",
       "      <td>7</td>\n",
       "      <td>630</td>\n",
       "      <td>Cash on Delivery</td>\n",
       "      <td>37</td>\n",
       "      <td>3</td>\n",
       "      <td>3</td>\n",
       "    </tr>\n",
       "    <tr>\n",
       "      <th>3</th>\n",
       "      <td>1</td>\n",
       "      <td>The Cave Hotel</td>\n",
       "      <td>Continental</td>\n",
       "      <td>Zone B</td>\n",
       "      <td>Pro</td>\n",
       "      <td>OD23</td>\n",
       "      <td>Meera</td>\n",
       "      <td>2022-01-01 14:31:00</td>\n",
       "      <td>1</td>\n",
       "      <td>28</td>\n",
       "      <td>Debit Card</td>\n",
       "      <td>29</td>\n",
       "      <td>3</td>\n",
       "      <td>2</td>\n",
       "    </tr>\n",
       "    <tr>\n",
       "      <th>4</th>\n",
       "      <td>1</td>\n",
       "      <td>The Cave Hotel</td>\n",
       "      <td>Continental</td>\n",
       "      <td>Zone B</td>\n",
       "      <td>Pro</td>\n",
       "      <td>OD58</td>\n",
       "      <td>David</td>\n",
       "      <td>2022-01-01 11:19:00</td>\n",
       "      <td>6</td>\n",
       "      <td>953</td>\n",
       "      <td>Debit Card</td>\n",
       "      <td>24</td>\n",
       "      <td>3</td>\n",
       "      <td>3</td>\n",
       "    </tr>\n",
       "  </tbody>\n",
       "</table>\n",
       "</div>"
      ],
      "text/plain": [
       "   Restaurant ID  RestaurantName      Cuisine    Zone Category Order ID  \\\n",
       "0              1  The Cave Hotel  Continental  Zone B      Pro      OD9   \n",
       "1              1  The Cave Hotel  Continental  Zone B      Pro     OD16   \n",
       "2              1  The Cave Hotel  Continental  Zone B      Pro     OD22   \n",
       "3              1  The Cave Hotel  Continental  Zone B      Pro     OD23   \n",
       "4              1  The Cave Hotel  Continental  Zone B      Pro     OD58   \n",
       "\n",
       "  Customer Name          Order Date  Quantity of Items  Order Amount  \\\n",
       "0         David 2022-01-01 13:39:00                  5           248   \n",
       "1         Meera 2022-01-01 12:19:00                  5           546   \n",
       "2        Suhaib 2022-01-01 17:39:00                  7           630   \n",
       "3         Meera 2022-01-01 14:31:00                  1            28   \n",
       "4         David 2022-01-01 11:19:00                  6           953   \n",
       "\n",
       "       Payment Mode  Delivery Time Taken (mins)  Customer Rating-Food  \\\n",
       "0        Debit Card                          27                     3   \n",
       "1  Cash on Delivery                          28                     5   \n",
       "2  Cash on Delivery                          37                     3   \n",
       "3        Debit Card                          29                     3   \n",
       "4        Debit Card                          24                     3   \n",
       "\n",
       "   Customer Rating-Delivery  \n",
       "0                         4  \n",
       "1                         2  \n",
       "2                         3  \n",
       "3                         2  \n",
       "4                         3  "
      ]
     },
     "execution_count": 16,
     "metadata": {},
     "output_type": "execute_result"
    }
   ],
   "source": [
    "df.head()"
   ]
  },
  {
   "cell_type": "code",
   "execution_count": 17,
   "id": "675b3aa7",
   "metadata": {},
   "outputs": [
    {
     "data": {
      "text/plain": [
       "Srini       34\n",
       "Revandh     30\n",
       "Ram         29\n",
       "Meera       29\n",
       "Suhaib      28\n",
       "Rifa        28\n",
       "Veer        26\n",
       "Swamy       25\n",
       "Farhan      25\n",
       "David       24\n",
       "Dev         24\n",
       "Charlie     24\n",
       "Sabeena     24\n",
       "Vinny       22\n",
       "Gopal       21\n",
       "Selva       20\n",
       "Shifa       20\n",
       "Sweetie     19\n",
       "Chinny      19\n",
       "Fastin      15\n",
       "Veronica    14\n",
       "Name: Customer Name, dtype: int64"
      ]
     },
     "execution_count": 17,
     "metadata": {},
     "output_type": "execute_result"
    }
   ],
   "source": [
    "df[\"Customer Name\"].value_counts()"
   ]
  },
  {
   "cell_type": "code",
   "execution_count": 18,
   "id": "fe33cec6",
   "metadata": {},
   "outputs": [
    {
     "data": {
      "image/png": "[encoded data removed]",
      "text/plain": [
       "<Figure size 720x432 with 1 Axes>"
      ]
     },
     "metadata": {
      "needs_background": "light"
     },
     "output_type": "display_data"
    }
   ],
   "source": [
    "plt.figure(figsize=(10,6))\n",
    "sns.countplot(df[\"Customer Name\"],data=df)\n",
    "plt.xticks(rotation=90);"
   ]
  },
  {
   "cell_type": "markdown",
   "id": "24e17bab",
   "metadata": {},
   "source": [
    "We can observe that Srini ordered the most orders"
   ]
  },
  {
   "cell_type": "code",
   "execution_count": null,
   "id": "fa4c52a4",
   "metadata": {},
   "outputs": [],
   "source": []
  },
  {
   "cell_type": "markdown",
   "id": "eb1558fa",
   "metadata": {},
   "source": [
    "# 3.4 When do customers order more in a day?"
   ]
  },
  {
   "cell_type": "code",
   "execution_count": 19,
   "id": "1677d8be",
   "metadata": {},
   "outputs": [
    {
     "data": {
      "text/html": [
       "<div>\n",
       "<style scoped>\n",
       "    .dataframe tbody tr th:only-of-type {\n",
       "        vertical-align: middle;\n",
       "    }\n",
       "\n",
       "    .dataframe tbody tr th {\n",
       "        vertical-align: top;\n",
       "    }\n",
       "\n",
       "    .dataframe thead th {\n",
       "        text-align: right;\n",
       "    }\n",
       "</style>\n",
       "<table border=\"1\" class=\"dataframe\">\n",
       "  <thead>\n",
       "    <tr style=\"text-align: right;\">\n",
       "      <th></th>\n",
       "      <th>Restaurant ID</th>\n",
       "      <th>RestaurantName</th>\n",
       "      <th>Cuisine</th>\n",
       "      <th>Zone</th>\n",
       "      <th>Category</th>\n",
       "      <th>Order ID</th>\n",
       "      <th>Customer Name</th>\n",
       "      <th>Order Date</th>\n",
       "      <th>Quantity of Items</th>\n",
       "      <th>Order Amount</th>\n",
       "      <th>Payment Mode</th>\n",
       "      <th>Delivery Time Taken (mins)</th>\n",
       "      <th>Customer Rating-Food</th>\n",
       "      <th>Customer Rating-Delivery</th>\n",
       "    </tr>\n",
       "  </thead>\n",
       "  <tbody>\n",
       "    <tr>\n",
       "      <th>0</th>\n",
       "      <td>1</td>\n",
       "      <td>The Cave Hotel</td>\n",
       "      <td>Continental</td>\n",
       "      <td>Zone B</td>\n",
       "      <td>Pro</td>\n",
       "      <td>OD9</td>\n",
       "      <td>David</td>\n",
       "      <td>2022-01-01 13:39:00</td>\n",
       "      <td>5</td>\n",
       "      <td>248</td>\n",
       "      <td>Debit Card</td>\n",
       "      <td>27</td>\n",
       "      <td>3</td>\n",
       "      <td>4</td>\n",
       "    </tr>\n",
       "    <tr>\n",
       "      <th>1</th>\n",
       "      <td>1</td>\n",
       "      <td>The Cave Hotel</td>\n",
       "      <td>Continental</td>\n",
       "      <td>Zone B</td>\n",
       "      <td>Pro</td>\n",
       "      <td>OD16</td>\n",
       "      <td>Meera</td>\n",
       "      <td>2022-01-01 12:19:00</td>\n",
       "      <td>5</td>\n",
       "      <td>546</td>\n",
       "      <td>Cash on Delivery</td>\n",
       "      <td>28</td>\n",
       "      <td>5</td>\n",
       "      <td>2</td>\n",
       "    </tr>\n",
       "    <tr>\n",
       "      <th>2</th>\n",
       "      <td>1</td>\n",
       "      <td>The Cave Hotel</td>\n",
       "      <td>Continental</td>\n",
       "      <td>Zone B</td>\n",
       "      <td>Pro</td>\n",
       "      <td>OD22</td>\n",
       "      <td>Suhaib</td>\n",
       "      <td>2022-01-01 17:39:00</td>\n",
       "      <td>7</td>\n",
       "      <td>630</td>\n",
       "      <td>Cash on Delivery</td>\n",
       "      <td>37</td>\n",
       "      <td>3</td>\n",
       "      <td>3</td>\n",
       "    </tr>\n",
       "    <tr>\n",
       "      <th>3</th>\n",
       "      <td>1</td>\n",
       "      <td>The Cave Hotel</td>\n",
       "      <td>Continental</td>\n",
       "      <td>Zone B</td>\n",
       "      <td>Pro</td>\n",
       "      <td>OD23</td>\n",
       "      <td>Meera</td>\n",
       "      <td>2022-01-01 14:31:00</td>\n",
       "      <td>1</td>\n",
       "      <td>28</td>\n",
       "      <td>Debit Card</td>\n",
       "      <td>29</td>\n",
       "      <td>3</td>\n",
       "      <td>2</td>\n",
       "    </tr>\n",
       "    <tr>\n",
       "      <th>4</th>\n",
       "      <td>1</td>\n",
       "      <td>The Cave Hotel</td>\n",
       "      <td>Continental</td>\n",
       "      <td>Zone B</td>\n",
       "      <td>Pro</td>\n",
       "      <td>OD58</td>\n",
       "      <td>David</td>\n",
       "      <td>2022-01-01 11:19:00</td>\n",
       "      <td>6</td>\n",
       "      <td>953</td>\n",
       "      <td>Debit Card</td>\n",
       "      <td>24</td>\n",
       "      <td>3</td>\n",
       "      <td>3</td>\n",
       "    </tr>\n",
       "  </tbody>\n",
       "</table>\n",
       "</div>"
      ],
      "text/plain": [
       "   Restaurant ID  RestaurantName      Cuisine    Zone Category Order ID  \\\n",
       "0              1  The Cave Hotel  Continental  Zone B      Pro      OD9   \n",
       "1              1  The Cave Hotel  Continental  Zone B      Pro     OD16   \n",
       "2              1  The Cave Hotel  Continental  Zone B      Pro     OD22   \n",
       "3              1  The Cave Hotel  Continental  Zone B      Pro     OD23   \n",
       "4              1  The Cave Hotel  Continental  Zone B      Pro     OD58   \n",
       "\n",
       "  Customer Name          Order Date  Quantity of Items  Order Amount  \\\n",
       "0         David 2022-01-01 13:39:00                  5           248   \n",
       "1         Meera 2022-01-01 12:19:00                  5           546   \n",
       "2        Suhaib 2022-01-01 17:39:00                  7           630   \n",
       "3         Meera 2022-01-01 14:31:00                  1            28   \n",
       "4         David 2022-01-01 11:19:00                  6           953   \n",
       "\n",
       "       Payment Mode  Delivery Time Taken (mins)  Customer Rating-Food  \\\n",
       "0        Debit Card                          27                     3   \n",
       "1  Cash on Delivery                          28                     5   \n",
       "2  Cash on Delivery                          37                     3   \n",
       "3        Debit Card                          29                     3   \n",
       "4        Debit Card                          24                     3   \n",
       "\n",
       "   Customer Rating-Delivery  \n",
       "0                         4  \n",
       "1                         2  \n",
       "2                         3  \n",
       "3                         2  \n",
       "4                         3  "
      ]
     },
     "execution_count": 19,
     "metadata": {},
     "output_type": "execute_result"
    }
   ],
   "source": [
    "df.head()"
   ]
  },
  {
   "cell_type": "code",
   "execution_count": 20,
   "id": "fc47d0b1",
   "metadata": {},
   "outputs": [
    {
     "data": {
      "text/html": [
       "<div>\n",
       "<style scoped>\n",
       "    .dataframe tbody tr th:only-of-type {\n",
       "        vertical-align: middle;\n",
       "    }\n",
       "\n",
       "    .dataframe tbody tr th {\n",
       "        vertical-align: top;\n",
       "    }\n",
       "\n",
       "    .dataframe thead th {\n",
       "        text-align: right;\n",
       "    }\n",
       "</style>\n",
       "<table border=\"1\" class=\"dataframe\">\n",
       "  <thead>\n",
       "    <tr style=\"text-align: right;\">\n",
       "      <th></th>\n",
       "      <th>Restaurant ID</th>\n",
       "      <th>RestaurantName</th>\n",
       "      <th>Cuisine</th>\n",
       "      <th>Zone</th>\n",
       "      <th>Category</th>\n",
       "      <th>Order ID</th>\n",
       "      <th>Customer Name</th>\n",
       "      <th>Order Date</th>\n",
       "      <th>Quantity of Items</th>\n",
       "      <th>Order Amount</th>\n",
       "      <th>Payment Mode</th>\n",
       "      <th>Delivery Time Taken (mins)</th>\n",
       "      <th>Customer Rating-Food</th>\n",
       "      <th>Customer Rating-Delivery</th>\n",
       "      <th>order_date_hour</th>\n",
       "      <th>order_date_hourday</th>\n",
       "    </tr>\n",
       "  </thead>\n",
       "  <tbody>\n",
       "    <tr>\n",
       "      <th>0</th>\n",
       "      <td>1</td>\n",
       "      <td>The Cave Hotel</td>\n",
       "      <td>Continental</td>\n",
       "      <td>Zone B</td>\n",
       "      <td>Pro</td>\n",
       "      <td>OD9</td>\n",
       "      <td>David</td>\n",
       "      <td>2022-01-01 13:39:00</td>\n",
       "      <td>5</td>\n",
       "      <td>248</td>\n",
       "      <td>Debit Card</td>\n",
       "      <td>27</td>\n",
       "      <td>3</td>\n",
       "      <td>4</td>\n",
       "      <td>13</td>\n",
       "      <td>Afternoon</td>\n",
       "    </tr>\n",
       "    <tr>\n",
       "      <th>1</th>\n",
       "      <td>1</td>\n",
       "      <td>The Cave Hotel</td>\n",
       "      <td>Continental</td>\n",
       "      <td>Zone B</td>\n",
       "      <td>Pro</td>\n",
       "      <td>OD16</td>\n",
       "      <td>Meera</td>\n",
       "      <td>2022-01-01 12:19:00</td>\n",
       "      <td>5</td>\n",
       "      <td>546</td>\n",
       "      <td>Cash on Delivery</td>\n",
       "      <td>28</td>\n",
       "      <td>5</td>\n",
       "      <td>2</td>\n",
       "      <td>12</td>\n",
       "      <td>Morning</td>\n",
       "    </tr>\n",
       "    <tr>\n",
       "      <th>2</th>\n",
       "      <td>1</td>\n",
       "      <td>The Cave Hotel</td>\n",
       "      <td>Continental</td>\n",
       "      <td>Zone B</td>\n",
       "      <td>Pro</td>\n",
       "      <td>OD22</td>\n",
       "      <td>Suhaib</td>\n",
       "      <td>2022-01-01 17:39:00</td>\n",
       "      <td>7</td>\n",
       "      <td>630</td>\n",
       "      <td>Cash on Delivery</td>\n",
       "      <td>37</td>\n",
       "      <td>3</td>\n",
       "      <td>3</td>\n",
       "      <td>17</td>\n",
       "      <td>Afternoon</td>\n",
       "    </tr>\n",
       "    <tr>\n",
       "      <th>3</th>\n",
       "      <td>1</td>\n",
       "      <td>The Cave Hotel</td>\n",
       "      <td>Continental</td>\n",
       "      <td>Zone B</td>\n",
       "      <td>Pro</td>\n",
       "      <td>OD23</td>\n",
       "      <td>Meera</td>\n",
       "      <td>2022-01-01 14:31:00</td>\n",
       "      <td>1</td>\n",
       "      <td>28</td>\n",
       "      <td>Debit Card</td>\n",
       "      <td>29</td>\n",
       "      <td>3</td>\n",
       "      <td>2</td>\n",
       "      <td>14</td>\n",
       "      <td>Afternoon</td>\n",
       "    </tr>\n",
       "    <tr>\n",
       "      <th>4</th>\n",
       "      <td>1</td>\n",
       "      <td>The Cave Hotel</td>\n",
       "      <td>Continental</td>\n",
       "      <td>Zone B</td>\n",
       "      <td>Pro</td>\n",
       "      <td>OD58</td>\n",
       "      <td>David</td>\n",
       "      <td>2022-01-01 11:19:00</td>\n",
       "      <td>6</td>\n",
       "      <td>953</td>\n",
       "      <td>Debit Card</td>\n",
       "      <td>24</td>\n",
       "      <td>3</td>\n",
       "      <td>3</td>\n",
       "      <td>11</td>\n",
       "      <td>Morning</td>\n",
       "    </tr>\n",
       "  </tbody>\n",
       "</table>\n",
       "</div>"
      ],
      "text/plain": [
       "   Restaurant ID  RestaurantName      Cuisine    Zone Category Order ID  \\\n",
       "0              1  The Cave Hotel  Continental  Zone B      Pro      OD9   \n",
       "1              1  The Cave Hotel  Continental  Zone B      Pro     OD16   \n",
       "2              1  The Cave Hotel  Continental  Zone B      Pro     OD22   \n",
       "3              1  The Cave Hotel  Continental  Zone B      Pro     OD23   \n",
       "4              1  The Cave Hotel  Continental  Zone B      Pro     OD58   \n",
       "\n",
       "  Customer Name          Order Date  Quantity of Items  Order Amount  \\\n",
       "0         David 2022-01-01 13:39:00                  5           248   \n",
       "1         Meera 2022-01-01 12:19:00                  5           546   \n",
       "2        Suhaib 2022-01-01 17:39:00                  7           630   \n",
       "3         Meera 2022-01-01 14:31:00                  1            28   \n",
       "4         David 2022-01-01 11:19:00                  6           953   \n",
       "\n",
       "       Payment Mode  Delivery Time Taken (mins)  Customer Rating-Food  \\\n",
       "0        Debit Card                          27                     3   \n",
       "1  Cash on Delivery                          28                     5   \n",
       "2  Cash on Delivery                          37                     3   \n",
       "3        Debit Card                          29                     3   \n",
       "4        Debit Card                          24                     3   \n",
       "\n",
       "   Customer Rating-Delivery  order_date_hour order_date_hourday  \n",
       "0                         4               13          Afternoon  \n",
       "1                         2               12            Morning  \n",
       "2                         3               17          Afternoon  \n",
       "3                         2               14          Afternoon  \n",
       "4                         3               11            Morning  "
      ]
     },
     "execution_count": 20,
     "metadata": {},
     "output_type": "execute_result"
    }
   ],
   "source": [
    "# Changing the data type for date columns\n",
    "timestamp_cols = ['Order Date']\n",
    "for col in timestamp_cols:\n",
    "    df[col] = pd.to_datetime(df[col])\n",
    "    \n",
    "# Extracting attributes for Order Date - Hour and Time of the Day\n",
    "df['order_date_hour'] = df['Order Date'].apply(lambda x: x.hour)\n",
    "hours_bins = [6, 12, 18, 23]\n",
    "hours_labels = ['Morning', 'Afternoon', 'Night']\n",
    "df['order_date_hourday'] = pd.cut(df['order_date_hour'], hours_bins, labels=hours_labels)\n",
    "\n",
    "# New DataFrame after transformations\n",
    "df.head()"
   ]
  },
  {
   "cell_type": "code",
   "execution_count": 21,
   "id": "cd65f4a6",
   "metadata": {},
   "outputs": [
    {
     "data": {
      "text/plain": [
       "<AxesSubplot:xlabel='order_date_hourday', ylabel='count'>"
      ]
     },
     "execution_count": 21,
     "metadata": {},
     "output_type": "execute_result"
    },
    {
     "data": {
      "image/png": "[encoded data removed]",
      "text/plain": [
       "<Figure size 432x288 with 1 Axes>"
      ]
     },
     "metadata": {
      "needs_background": "light"
     },
     "output_type": "display_data"
    }
   ],
   "source": [
    "sns.countplot(\"order_date_hourday\",data=df)"
   ]
  },
  {
   "cell_type": "markdown",
   "id": "67d0cf1e",
   "metadata": {},
   "source": [
    "From the graphs above, we can see that customers often order during Afternoon period mainly at 2PM in a day."
   ]
  },
  {
   "cell_type": "markdown",
   "id": "2a51c667",
   "metadata": {},
   "source": [
    "# 3.5 Which is the most liked cuisine?"
   ]
  },
  {
   "cell_type": "code",
   "execution_count": 22,
   "id": "9844838c",
   "metadata": {},
   "outputs": [
    {
     "data": {
      "text/html": [
       "<div>\n",
       "<style scoped>\n",
       "    .dataframe tbody tr th:only-of-type {\n",
       "        vertical-align: middle;\n",
       "    }\n",
       "\n",
       "    .dataframe tbody tr th {\n",
       "        vertical-align: top;\n",
       "    }\n",
       "\n",
       "    .dataframe thead th {\n",
       "        text-align: right;\n",
       "    }\n",
       "</style>\n",
       "<table border=\"1\" class=\"dataframe\">\n",
       "  <thead>\n",
       "    <tr style=\"text-align: right;\">\n",
       "      <th></th>\n",
       "      <th>Cuisine</th>\n",
       "      <th>Order Amount</th>\n",
       "    </tr>\n",
       "  </thead>\n",
       "  <tbody>\n",
       "    <tr>\n",
       "      <th>6</th>\n",
       "      <td>North Indian</td>\n",
       "      <td>46706</td>\n",
       "    </tr>\n",
       "    <tr>\n",
       "      <th>3</th>\n",
       "      <td>Chinese</td>\n",
       "      <td>45437</td>\n",
       "    </tr>\n",
       "    <tr>\n",
       "      <th>5</th>\n",
       "      <td>French</td>\n",
       "      <td>45121</td>\n",
       "    </tr>\n",
       "    <tr>\n",
       "      <th>7</th>\n",
       "      <td>South Indian</td>\n",
       "      <td>38855</td>\n",
       "    </tr>\n",
       "    <tr>\n",
       "      <th>0</th>\n",
       "      <td>African</td>\n",
       "      <td>36452</td>\n",
       "    </tr>\n",
       "    <tr>\n",
       "      <th>2</th>\n",
       "      <td>Belgian</td>\n",
       "      <td>34996</td>\n",
       "    </tr>\n",
       "    <tr>\n",
       "      <th>4</th>\n",
       "      <td>Continental</td>\n",
       "      <td>34882</td>\n",
       "    </tr>\n",
       "    <tr>\n",
       "      <th>1</th>\n",
       "      <td>Arabian</td>\n",
       "      <td>16622</td>\n",
       "    </tr>\n",
       "  </tbody>\n",
       "</table>\n",
       "</div>"
      ],
      "text/plain": [
       "        Cuisine  Order Amount\n",
       "6  North Indian         46706\n",
       "3       Chinese         45437\n",
       "5        French         45121\n",
       "7  South Indian         38855\n",
       "0       African         36452\n",
       "2       Belgian         34996\n",
       "4   Continental         34882\n",
       "1       Arabian         16622"
      ]
     },
     "execution_count": 22,
     "metadata": {},
     "output_type": "execute_result"
    }
   ],
   "source": [
    "most=df.groupby(\"Cuisine\",as_index=False)[\"Order Amount\"].sum()\n",
    "most=most.sort_values(by=\"Order Amount\",ascending=False)\n",
    "most"
   ]
  },
  {
   "cell_type": "code",
   "execution_count": 23,
   "id": "6356d0ef",
   "metadata": {},
   "outputs": [
    {
     "data": {
      "image/png": "[encoded data removed]",
      "text/plain": [
       "<Figure size 720x576 with 1 Axes>"
      ]
     },
     "metadata": {
      "needs_background": "light"
     },
     "output_type": "display_data"
    }
   ],
   "source": [
    "plt.figure(figsize=(10,8))\n",
    "sns.barplot(x=\"Cuisine\",y=\"Order Amount\",data=most);\n",
    "plt.title(\"Most Sales by Cuisine Type\");"
   ]
  },
  {
   "cell_type": "code",
   "execution_count": 24,
   "id": "877e8e2d",
   "metadata": {},
   "outputs": [
    {
     "data": {
      "text/html": [
       "<div>\n",
       "<style scoped>\n",
       "    .dataframe tbody tr th:only-of-type {\n",
       "        vertical-align: middle;\n",
       "    }\n",
       "\n",
       "    .dataframe tbody tr th {\n",
       "        vertical-align: top;\n",
       "    }\n",
       "\n",
       "    .dataframe thead th {\n",
       "        text-align: right;\n",
       "    }\n",
       "</style>\n",
       "<table border=\"1\" class=\"dataframe\">\n",
       "  <thead>\n",
       "    <tr style=\"text-align: right;\">\n",
       "      <th></th>\n",
       "      <th>Cuisine</th>\n",
       "      <th>Customer Rating-Delivery</th>\n",
       "    </tr>\n",
       "  </thead>\n",
       "  <tbody>\n",
       "    <tr>\n",
       "      <th>6</th>\n",
       "      <td>North Indian</td>\n",
       "      <td>243</td>\n",
       "    </tr>\n",
       "    <tr>\n",
       "      <th>3</th>\n",
       "      <td>Chinese</td>\n",
       "      <td>231</td>\n",
       "    </tr>\n",
       "    <tr>\n",
       "      <th>7</th>\n",
       "      <td>South Indian</td>\n",
       "      <td>230</td>\n",
       "    </tr>\n",
       "    <tr>\n",
       "      <th>5</th>\n",
       "      <td>French</td>\n",
       "      <td>210</td>\n",
       "    </tr>\n",
       "    <tr>\n",
       "      <th>0</th>\n",
       "      <td>African</td>\n",
       "      <td>188</td>\n",
       "    </tr>\n",
       "    <tr>\n",
       "      <th>4</th>\n",
       "      <td>Continental</td>\n",
       "      <td>169</td>\n",
       "    </tr>\n",
       "    <tr>\n",
       "      <th>2</th>\n",
       "      <td>Belgian</td>\n",
       "      <td>148</td>\n",
       "    </tr>\n",
       "    <tr>\n",
       "      <th>1</th>\n",
       "      <td>Arabian</td>\n",
       "      <td>77</td>\n",
       "    </tr>\n",
       "  </tbody>\n",
       "</table>\n",
       "</div>"
      ],
      "text/plain": [
       "        Cuisine  Customer Rating-Delivery\n",
       "6  North Indian                       243\n",
       "3       Chinese                       231\n",
       "7  South Indian                       230\n",
       "5        French                       210\n",
       "0       African                       188\n",
       "4   Continental                       169\n",
       "2       Belgian                       148\n",
       "1       Arabian                        77"
      ]
     },
     "execution_count": 24,
     "metadata": {},
     "output_type": "execute_result"
    }
   ],
   "source": [
    "most_rating=df.groupby(\"Cuisine\",as_index=False)[\"Customer Rating-Delivery\"].sum();\n",
    "most_rating=most_rating.sort_values(by=\"Customer Rating-Delivery\",ascending=False)\n",
    "most_rating"
   ]
  },
  {
   "cell_type": "code",
   "execution_count": 25,
   "id": "ab21b5ae",
   "metadata": {
    "scrolled": false
   },
   "outputs": [
    {
     "data": {
      "text/plain": [
       "Text(0.5, 1.0, 'Most liked Rating Cuisine Type')"
      ]
     },
     "execution_count": 25,
     "metadata": {},
     "output_type": "execute_result"
    },
    {
     "data": {
      "image/png": "[encoded data removed]",
      "text/plain": [
       "<Figure size 720x432 with 1 Axes>"
      ]
     },
     "metadata": {
      "needs_background": "light"
     },
     "output_type": "display_data"
    }
   ],
   "source": [
    "plt.figure(figsize=(10,6));\n",
    "sns.barplot(x=\"Cuisine\",y=\"Customer Rating-Delivery\",data=most_rating);\n",
    "plt.title(\"Most liked Rating Cuisine Type\")"
   ]
  },
  {
   "cell_type": "code",
   "execution_count": null,
   "id": "74e0889e",
   "metadata": {},
   "outputs": [],
   "source": []
  },
  {
   "cell_type": "markdown",
   "id": "f6165222",
   "metadata": {},
   "source": [
    "By checking both sales and customer food ratings by cuisine type, we can see that North Indian is the most liked cuisine type,\n",
    "which also has the highest sales among all cuisine types"
   ]
  },
  {
   "cell_type": "markdown",
   "id": "0d0d83c4",
   "metadata": {},
   "source": [
    "# 3.6 Which zone has the most sales?"
   ]
  },
  {
   "cell_type": "code",
   "execution_count": 26,
   "id": "31d8d2e5",
   "metadata": {},
   "outputs": [
    {
     "data": {
      "text/html": [
       "<div>\n",
       "<style scoped>\n",
       "    .dataframe tbody tr th:only-of-type {\n",
       "        vertical-align: middle;\n",
       "    }\n",
       "\n",
       "    .dataframe tbody tr th {\n",
       "        vertical-align: top;\n",
       "    }\n",
       "\n",
       "    .dataframe thead th {\n",
       "        text-align: right;\n",
       "    }\n",
       "</style>\n",
       "<table border=\"1\" class=\"dataframe\">\n",
       "  <thead>\n",
       "    <tr style=\"text-align: right;\">\n",
       "      <th></th>\n",
       "      <th>Zone</th>\n",
       "      <th>Order Amount</th>\n",
       "    </tr>\n",
       "  </thead>\n",
       "  <tbody>\n",
       "    <tr>\n",
       "      <th>3</th>\n",
       "      <td>Zone D</td>\n",
       "      <td>128163</td>\n",
       "    </tr>\n",
       "    <tr>\n",
       "      <th>1</th>\n",
       "      <td>Zone B</td>\n",
       "      <td>77001</td>\n",
       "    </tr>\n",
       "    <tr>\n",
       "      <th>2</th>\n",
       "      <td>Zone C</td>\n",
       "      <td>53074</td>\n",
       "    </tr>\n",
       "    <tr>\n",
       "      <th>0</th>\n",
       "      <td>Zone A</td>\n",
       "      <td>40833</td>\n",
       "    </tr>\n",
       "  </tbody>\n",
       "</table>\n",
       "</div>"
      ],
      "text/plain": [
       "     Zone  Order Amount\n",
       "3  Zone D        128163\n",
       "1  Zone B         77001\n",
       "2  Zone C         53074\n",
       "0  Zone A         40833"
      ]
     },
     "execution_count": 26,
     "metadata": {},
     "output_type": "execute_result"
    }
   ],
   "source": [
    "most_zone=df.groupby(\"Zone\",as_index=False)[\"Order Amount\"].sum()\n",
    "most_zone=most_zone.sort_values(by=\"Order Amount\",ascending=False)\n",
    "most_zone"
   ]
  },
  {
   "cell_type": "code",
   "execution_count": 27,
   "id": "e76cc547",
   "metadata": {},
   "outputs": [
    {
     "data": {
      "text/plain": [
       "Text(0.5, 1.0, 'Most Sales by Zones')"
      ]
     },
     "execution_count": 27,
     "metadata": {},
     "output_type": "execute_result"
    },
    {
     "data": {
      "image/png": "[encoded data removed]",
      "text/plain": [
       "<Figure size 576x360 with 1 Axes>"
      ]
     },
     "metadata": {
      "needs_background": "light"
     },
     "output_type": "display_data"
    }
   ],
   "source": [
    "plt.figure(figsize=(8,5))\n",
    "sns.barplot(x=\"Zone\",y=\"Order Amount\",data=most_zone)\n",
    "plt.title('Most Sales by Zones', size=18, color='dimgrey')"
   ]
  },
  {
   "cell_type": "markdown",
   "id": "bb914eac",
   "metadata": {},
   "source": [
    "From the graphs above, we can see that Zone D had the most sales among all zones."
   ]
  },
  {
   "cell_type": "code",
   "execution_count": 32,
   "id": "4130e3c0",
   "metadata": {},
   "outputs": [
    {
     "data": {
      "text/plain": [
       "Debit Card          174\n",
       "Cash on Delivery    169\n",
       "Credit Card         157\n",
       "Name: Payment Mode, dtype: int64"
      ]
     },
     "execution_count": 32,
     "metadata": {},
     "output_type": "execute_result"
    }
   ],
   "source": [
    "df[\"Payment Mode\"].value_counts()"
   ]
  },
  {
   "cell_type": "code",
   "execution_count": 33,
   "id": "83eca825",
   "metadata": {},
   "outputs": [
    {
     "data": {
      "text/html": [
       "<div>\n",
       "<style scoped>\n",
       "    .dataframe tbody tr th:only-of-type {\n",
       "        vertical-align: middle;\n",
       "    }\n",
       "\n",
       "    .dataframe tbody tr th {\n",
       "        vertical-align: top;\n",
       "    }\n",
       "\n",
       "    .dataframe thead th {\n",
       "        text-align: right;\n",
       "    }\n",
       "</style>\n",
       "<table border=\"1\" class=\"dataframe\">\n",
       "  <thead>\n",
       "    <tr style=\"text-align: right;\">\n",
       "      <th></th>\n",
       "      <th>Zone</th>\n",
       "      <th>Payment Mode</th>\n",
       "      <th>count</th>\n",
       "    </tr>\n",
       "  </thead>\n",
       "  <tbody>\n",
       "    <tr>\n",
       "      <th>0</th>\n",
       "      <td>Zone A</td>\n",
       "      <td>Debit Card</td>\n",
       "      <td>26</td>\n",
       "    </tr>\n",
       "    <tr>\n",
       "      <th>1</th>\n",
       "      <td>Zone A</td>\n",
       "      <td>Cash on Delivery</td>\n",
       "      <td>24</td>\n",
       "    </tr>\n",
       "    <tr>\n",
       "      <th>2</th>\n",
       "      <td>Zone A</td>\n",
       "      <td>Credit Card</td>\n",
       "      <td>19</td>\n",
       "    </tr>\n",
       "    <tr>\n",
       "      <th>3</th>\n",
       "      <td>Zone B</td>\n",
       "      <td>Cash on Delivery</td>\n",
       "      <td>48</td>\n",
       "    </tr>\n",
       "    <tr>\n",
       "      <th>4</th>\n",
       "      <td>Zone B</td>\n",
       "      <td>Debit Card</td>\n",
       "      <td>47</td>\n",
       "    </tr>\n",
       "    <tr>\n",
       "      <th>5</th>\n",
       "      <td>Zone B</td>\n",
       "      <td>Credit Card</td>\n",
       "      <td>37</td>\n",
       "    </tr>\n",
       "    <tr>\n",
       "      <th>6</th>\n",
       "      <td>Zone C</td>\n",
       "      <td>Credit Card</td>\n",
       "      <td>39</td>\n",
       "    </tr>\n",
       "    <tr>\n",
       "      <th>7</th>\n",
       "      <td>Zone C</td>\n",
       "      <td>Cash on Delivery</td>\n",
       "      <td>24</td>\n",
       "    </tr>\n",
       "    <tr>\n",
       "      <th>8</th>\n",
       "      <td>Zone C</td>\n",
       "      <td>Debit Card</td>\n",
       "      <td>23</td>\n",
       "    </tr>\n",
       "    <tr>\n",
       "      <th>9</th>\n",
       "      <td>Zone D</td>\n",
       "      <td>Debit Card</td>\n",
       "      <td>78</td>\n",
       "    </tr>\n",
       "    <tr>\n",
       "      <th>10</th>\n",
       "      <td>Zone D</td>\n",
       "      <td>Cash on Delivery</td>\n",
       "      <td>73</td>\n",
       "    </tr>\n",
       "    <tr>\n",
       "      <th>11</th>\n",
       "      <td>Zone D</td>\n",
       "      <td>Credit Card</td>\n",
       "      <td>62</td>\n",
       "    </tr>\n",
       "  </tbody>\n",
       "</table>\n",
       "</div>"
      ],
      "text/plain": [
       "      Zone      Payment Mode  count\n",
       "0   Zone A        Debit Card     26\n",
       "1   Zone A  Cash on Delivery     24\n",
       "2   Zone A       Credit Card     19\n",
       "3   Zone B  Cash on Delivery     48\n",
       "4   Zone B        Debit Card     47\n",
       "5   Zone B       Credit Card     37\n",
       "6   Zone C       Credit Card     39\n",
       "7   Zone C  Cash on Delivery     24\n",
       "8   Zone C        Debit Card     23\n",
       "9   Zone D        Debit Card     78\n",
       "10  Zone D  Cash on Delivery     73\n",
       "11  Zone D       Credit Card     62"
      ]
     },
     "execution_count": 33,
     "metadata": {},
     "output_type": "execute_result"
    }
   ],
   "source": [
    "b=df.groupby(\"Zone\",as_index=False)[\"Payment Mode\"].value_counts()\n",
    "b"
   ]
  },
  {
   "cell_type": "code",
   "execution_count": 34,
   "id": "f5a07e12",
   "metadata": {},
   "outputs": [
    {
     "data": {
      "text/plain": [
       "<AxesSubplot:xlabel='Zone', ylabel='count'>"
      ]
     },
     "execution_count": 34,
     "metadata": {},
     "output_type": "execute_result"
    },
    {
     "data": {
      "image/png": "[encoded data removed]",
      "text/plain": [
       "<Figure size 432x288 with 1 Axes>"
      ]
     },
     "metadata": {
      "needs_background": "light"
     },
     "output_type": "display_data"
    }
   ],
   "source": [
    "sns.barplot(x=\"Zone\",y=\"count\",data=b,hue=\"Payment Mode\")"
   ]
  },
  {
   "cell_type": "code",
   "execution_count": 35,
   "id": "7796728d",
   "metadata": {},
   "outputs": [
    {
     "data": {
      "text/html": [
       "<div>\n",
       "<style scoped>\n",
       "    .dataframe tbody tr th:only-of-type {\n",
       "        vertical-align: middle;\n",
       "    }\n",
       "\n",
       "    .dataframe tbody tr th {\n",
       "        vertical-align: top;\n",
       "    }\n",
       "\n",
       "    .dataframe thead th {\n",
       "        text-align: right;\n",
       "    }\n",
       "</style>\n",
       "<table border=\"1\" class=\"dataframe\">\n",
       "  <thead>\n",
       "    <tr style=\"text-align: right;\">\n",
       "      <th></th>\n",
       "      <th>Restaurant ID</th>\n",
       "      <th>RestaurantName</th>\n",
       "      <th>Cuisine</th>\n",
       "      <th>Zone</th>\n",
       "      <th>Category</th>\n",
       "      <th>Order ID</th>\n",
       "      <th>Customer Name</th>\n",
       "      <th>Order Date</th>\n",
       "      <th>Quantity of Items</th>\n",
       "      <th>Order Amount</th>\n",
       "      <th>Payment Mode</th>\n",
       "      <th>Delivery Time Taken (mins)</th>\n",
       "      <th>Customer Rating-Food</th>\n",
       "      <th>Customer Rating-Delivery</th>\n",
       "      <th>order_date_hour</th>\n",
       "      <th>order_date_hourday</th>\n",
       "    </tr>\n",
       "  </thead>\n",
       "  <tbody>\n",
       "    <tr>\n",
       "      <th>0</th>\n",
       "      <td>1</td>\n",
       "      <td>The Cave Hotel</td>\n",
       "      <td>Continental</td>\n",
       "      <td>Zone B</td>\n",
       "      <td>Pro</td>\n",
       "      <td>OD9</td>\n",
       "      <td>David</td>\n",
       "      <td>2022-01-01 13:39:00</td>\n",
       "      <td>5</td>\n",
       "      <td>248</td>\n",
       "      <td>Debit Card</td>\n",
       "      <td>27</td>\n",
       "      <td>3</td>\n",
       "      <td>4</td>\n",
       "      <td>13</td>\n",
       "      <td>Afternoon</td>\n",
       "    </tr>\n",
       "    <tr>\n",
       "      <th>1</th>\n",
       "      <td>1</td>\n",
       "      <td>The Cave Hotel</td>\n",
       "      <td>Continental</td>\n",
       "      <td>Zone B</td>\n",
       "      <td>Pro</td>\n",
       "      <td>OD16</td>\n",
       "      <td>Meera</td>\n",
       "      <td>2022-01-01 12:19:00</td>\n",
       "      <td>5</td>\n",
       "      <td>546</td>\n",
       "      <td>Cash on Delivery</td>\n",
       "      <td>28</td>\n",
       "      <td>5</td>\n",
       "      <td>2</td>\n",
       "      <td>12</td>\n",
       "      <td>Morning</td>\n",
       "    </tr>\n",
       "  </tbody>\n",
       "</table>\n",
       "</div>"
      ],
      "text/plain": [
       "   Restaurant ID  RestaurantName      Cuisine    Zone Category Order ID  \\\n",
       "0              1  The Cave Hotel  Continental  Zone B      Pro      OD9   \n",
       "1              1  The Cave Hotel  Continental  Zone B      Pro     OD16   \n",
       "\n",
       "  Customer Name          Order Date  Quantity of Items  Order Amount  \\\n",
       "0         David 2022-01-01 13:39:00                  5           248   \n",
       "1         Meera 2022-01-01 12:19:00                  5           546   \n",
       "\n",
       "       Payment Mode  Delivery Time Taken (mins)  Customer Rating-Food  \\\n",
       "0        Debit Card                          27                     3   \n",
       "1  Cash on Delivery                          28                     5   \n",
       "\n",
       "   Customer Rating-Delivery  order_date_hour order_date_hourday  \n",
       "0                         4               13          Afternoon  \n",
       "1                         2               12            Morning  "
      ]
     },
     "execution_count": 35,
     "metadata": {},
     "output_type": "execute_result"
    }
   ],
   "source": [
    "df.head(2)"
   ]
  },
  {
   "cell_type": "code",
   "execution_count": 36,
   "id": "1cea823d",
   "metadata": {},
   "outputs": [
    {
     "data": {
      "text/plain": [
       "Ordinary    321\n",
       "Pro         179\n",
       "Name: Category, dtype: int64"
      ]
     },
     "execution_count": 36,
     "metadata": {},
     "output_type": "execute_result"
    }
   ],
   "source": [
    "df[\"Category\"].value_counts()"
   ]
  },
  {
   "cell_type": "code",
   "execution_count": 37,
   "id": "fe31318c",
   "metadata": {},
   "outputs": [],
   "source": [
    "c=df.groupby(\"Zone\",as_index=False)[\"Category\"].value_counts()"
   ]
  },
  {
   "cell_type": "code",
   "execution_count": 38,
   "id": "e2835f76",
   "metadata": {},
   "outputs": [
    {
     "data": {
      "text/plain": [
       "<AxesSubplot:xlabel='Zone', ylabel='count'>"
      ]
     },
     "execution_count": 38,
     "metadata": {},
     "output_type": "execute_result"
    },
    {
     "data": {
      "image/png": "[encoded data removed]",
      "text/plain": [
       "<Figure size 432x288 with 1 Axes>"
      ]
     },
     "metadata": {
      "needs_background": "light"
     },
     "output_type": "display_data"
    }
   ],
   "source": [
    "sns.barplot(x=\"Zone\",y=\"count\",hue=\"Category\",data=c)"
   ]
  },
  {
   "cell_type": "code",
   "execution_count": 39,
   "id": "b85a57a8",
   "metadata": {},
   "outputs": [],
   "source": [
    "d=df.groupby(\"Cuisine\",as_index=False)[\"Payment Mode\"].value_counts()"
   ]
  },
  {
   "cell_type": "code",
   "execution_count": 40,
   "id": "bd18f32a",
   "metadata": {},
   "outputs": [
    {
     "data": {
      "text/plain": [
       "<AxesSubplot:xlabel='Cuisine', ylabel='count'>"
      ]
     },
     "execution_count": 40,
     "metadata": {},
     "output_type": "execute_result"
    },
    {
     "data": {
      "image/png": "[encoded data removed]",
      "text/plain": [
       "<Figure size 720x504 with 1 Axes>"
      ]
     },
     "metadata": {
      "needs_background": "light"
     },
     "output_type": "display_data"
    }
   ],
   "source": [
    "plt.figure(figsize=(10,7))\n",
    "sns.barplot(x=\"Cuisine\",y=\"count\",hue=\"Payment Mode\",data=d)"
   ]
  },
  {
   "cell_type": "code",
   "execution_count": null,
   "id": "e7d1f74d",
   "metadata": {},
   "outputs": [],
   "source": []
  },
  {
   "cell_type": "markdown",
   "id": "4fbf66d4",
   "metadata": {},
   "source": [
    "<a id=\"4\"></a>\n",
    "<font color=\"dimgrey\" size=+2.0><b>4. Conclusion of the EDA</b></font>"
   ]
  },
  {
   "cell_type": "markdown",
   "id": "e5d0e171",
   "metadata": {},
   "source": [
    "To conclude, if you are a restaurant owner who is planning to open a delivery store, I suggest you should target \n",
    "to do North Indian, Chinese, or French cuisine type delivery store and rent a place in Zone D area. Once you rent your store \n",
    "and wants to do marketing promtion with your store, try to do it during 10AM and 1PM right before 11PM and 2PM,\n",
    "which are the order peak hour because when customers are thinking to order food delivery for their lunch,\n",
    "your promotion message pops up on their phone or social media right before their lunch at the right time,\n",
    "that's the most effective way to attract your new customers."
   ]
  },
  {
   "cell_type": "code",
   "execution_count": null,
   "id": "5a70c6ce",
   "metadata": {},
   "outputs": [],
   "source": []
  },
  {
   "cell_type": "code",
   "execution_count": null,
   "id": "8f2439fc",
   "metadata": {},
   "outputs": [],
   "source": []
  },
  {
   "cell_type": "code",
   "execution_count": null,
   "id": "d3dce2ca",
   "metadata": {},
   "outputs": [],
   "source": []
  },
  {
   "cell_type": "code",
   "execution_count": null,
   "id": "0708c7be",
   "metadata": {},
   "outputs": [],
   "source": []
  },
  {
   "cell_type": "code",
   "execution_count": null,
   "id": "fcf2dcd8",
   "metadata": {},
   "outputs": [],
   "source": []
  },
  {
   "cell_type": "code",
   "execution_count": null,
   "id": "cb65ebf4",
   "metadata": {},
   "outputs": [],
   "source": []
  },
  {
   "cell_type": "code",
   "execution_count": null,
   "id": "7587e4a0",
   "metadata": {},
   "outputs": [],
   "source": []
  },
  {
   "cell_type": "code",
   "execution_count": null,
   "id": "a4e02cda",
   "metadata": {},
   "outputs": [],
   "source": []
  },
  {
   "cell_type": "code",
   "execution_count": null,
   "id": "e11a5ad9",
   "metadata": {},
   "outputs": [],
   "source": []
  },
  {
   "cell_type": "code",
   "execution_count": null,
   "id": "f0f8cf38",
   "metadata": {},
   "outputs": [],
   "source": []
  },
  {
   "cell_type": "code",
   "execution_count": null,
   "id": "6dd75df6",
   "metadata": {},
   "outputs": [],
   "source": []
  },
  {
   "cell_type": "code",
   "execution_count": null,
   "id": "795b764a",
   "metadata": {},
   "outputs": [],
   "source": []
  }
 ],
 "metadata": {
  "kernelspec": {
   "display_name": "Python 3 (ipykernel)",
   "language": "python",
   "name": "python3"
  },
  "language_info": {
   "codemirror_mode": {
    "name": "ipython",
    "version": 3
   },
   "file_extension": ".py",
   "mimetype": "text/x-python",
   "name": "python",
   "nbconvert_exporter": "python",
   "pygments_lexer": "ipython3",
   "version": "3.10.2"
  }
 },
 "nbformat": 4,
 "nbformat_minor": 5
}
